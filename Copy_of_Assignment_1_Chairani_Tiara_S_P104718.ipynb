{
  "nbformat": 4,
  "nbformat_minor": 0,
  "metadata": {
    "colab": {
      "name": "Copy of Assignment 1_Chairani Tiara S_P104718",
      "provenance": [],
      "collapsed_sections": []
    },
    "kernelspec": {
      "name": "python3",
      "display_name": "Python 3"
    },
    "widgets": {
      "application/vnd.jupyter.widget-state+json": {
        "3743a3cd18a04cf09748c9a15acb94f5": {
          "model_module": "@jupyter-widgets/controls",
          "model_name": "HBoxModel",
          "model_module_version": "1.5.0",
          "state": {
            "_view_name": "HBoxView",
            "_dom_classes": [],
            "_model_name": "HBoxModel",
            "_view_module": "@jupyter-widgets/controls",
            "_model_module_version": "1.5.0",
            "_view_count": null,
            "_view_module_version": "1.5.0",
            "box_style": "",
            "layout": "IPY_MODEL_1301a0367e0e46acbc7633a04ccd5c5a",
            "_model_module": "@jupyter-widgets/controls",
            "children": [
              "IPY_MODEL_6e73178b60664cc3bfb949a4484a6cc2",
              "IPY_MODEL_4cb4e48c4a8042529b5633285d0d3ba8"
            ]
          }
        },
        "1301a0367e0e46acbc7633a04ccd5c5a": {
          "model_module": "@jupyter-widgets/base",
          "model_name": "LayoutModel",
          "model_module_version": "1.2.0",
          "state": {
            "_view_name": "LayoutView",
            "grid_template_rows": null,
            "right": null,
            "justify_content": null,
            "_view_module": "@jupyter-widgets/base",
            "overflow": null,
            "_model_module_version": "1.2.0",
            "_view_count": null,
            "flex_flow": null,
            "width": null,
            "min_width": null,
            "border": null,
            "align_items": null,
            "bottom": null,
            "_model_module": "@jupyter-widgets/base",
            "top": null,
            "grid_column": null,
            "overflow_y": null,
            "overflow_x": null,
            "grid_auto_flow": null,
            "grid_area": null,
            "grid_template_columns": null,
            "flex": null,
            "_model_name": "LayoutModel",
            "justify_items": null,
            "grid_row": null,
            "max_height": null,
            "align_content": null,
            "visibility": null,
            "align_self": null,
            "height": null,
            "min_height": null,
            "padding": null,
            "grid_auto_rows": null,
            "grid_gap": null,
            "max_width": null,
            "order": null,
            "_view_module_version": "1.2.0",
            "grid_template_areas": null,
            "object_position": null,
            "object_fit": null,
            "grid_auto_columns": null,
            "margin": null,
            "display": null,
            "left": null
          }
        },
        "6e73178b60664cc3bfb949a4484a6cc2": {
          "model_module": "@jupyter-widgets/controls",
          "model_name": "FloatProgressModel",
          "model_module_version": "1.5.0",
          "state": {
            "_view_name": "ProgressView",
            "style": "IPY_MODEL_970abb3ce8bd4d17a9fded4815b3e14d",
            "_dom_classes": [],
            "description": "Downloading: 100%",
            "_model_name": "FloatProgressModel",
            "bar_style": "success",
            "max": 442,
            "_view_module": "@jupyter-widgets/controls",
            "_model_module_version": "1.5.0",
            "value": 442,
            "_view_count": null,
            "_view_module_version": "1.5.0",
            "orientation": "horizontal",
            "min": 0,
            "description_tooltip": null,
            "_model_module": "@jupyter-widgets/controls",
            "layout": "IPY_MODEL_a0de965795f04748861aecb2bfee7cb7"
          }
        },
        "4cb4e48c4a8042529b5633285d0d3ba8": {
          "model_module": "@jupyter-widgets/controls",
          "model_name": "HTMLModel",
          "model_module_version": "1.5.0",
          "state": {
            "_view_name": "HTMLView",
            "style": "IPY_MODEL_aeabde9811504fb69c0d67d1b9227f2c",
            "_dom_classes": [],
            "description": "",
            "_model_name": "HTMLModel",
            "placeholder": "​",
            "_view_module": "@jupyter-widgets/controls",
            "_model_module_version": "1.5.0",
            "value": " 442/442 [00:00&lt;00:00, 1.33kB/s]",
            "_view_count": null,
            "_view_module_version": "1.5.0",
            "description_tooltip": null,
            "_model_module": "@jupyter-widgets/controls",
            "layout": "IPY_MODEL_81ee1b1d9a0a4bbca4793922b77e2844"
          }
        },
        "970abb3ce8bd4d17a9fded4815b3e14d": {
          "model_module": "@jupyter-widgets/controls",
          "model_name": "ProgressStyleModel",
          "model_module_version": "1.5.0",
          "state": {
            "_view_name": "StyleView",
            "_model_name": "ProgressStyleModel",
            "description_width": "initial",
            "_view_module": "@jupyter-widgets/base",
            "_model_module_version": "1.5.0",
            "_view_count": null,
            "_view_module_version": "1.2.0",
            "bar_color": null,
            "_model_module": "@jupyter-widgets/controls"
          }
        },
        "a0de965795f04748861aecb2bfee7cb7": {
          "model_module": "@jupyter-widgets/base",
          "model_name": "LayoutModel",
          "model_module_version": "1.2.0",
          "state": {
            "_view_name": "LayoutView",
            "grid_template_rows": null,
            "right": null,
            "justify_content": null,
            "_view_module": "@jupyter-widgets/base",
            "overflow": null,
            "_model_module_version": "1.2.0",
            "_view_count": null,
            "flex_flow": null,
            "width": null,
            "min_width": null,
            "border": null,
            "align_items": null,
            "bottom": null,
            "_model_module": "@jupyter-widgets/base",
            "top": null,
            "grid_column": null,
            "overflow_y": null,
            "overflow_x": null,
            "grid_auto_flow": null,
            "grid_area": null,
            "grid_template_columns": null,
            "flex": null,
            "_model_name": "LayoutModel",
            "justify_items": null,
            "grid_row": null,
            "max_height": null,
            "align_content": null,
            "visibility": null,
            "align_self": null,
            "height": null,
            "min_height": null,
            "padding": null,
            "grid_auto_rows": null,
            "grid_gap": null,
            "max_width": null,
            "order": null,
            "_view_module_version": "1.2.0",
            "grid_template_areas": null,
            "object_position": null,
            "object_fit": null,
            "grid_auto_columns": null,
            "margin": null,
            "display": null,
            "left": null
          }
        },
        "aeabde9811504fb69c0d67d1b9227f2c": {
          "model_module": "@jupyter-widgets/controls",
          "model_name": "DescriptionStyleModel",
          "model_module_version": "1.5.0",
          "state": {
            "_view_name": "StyleView",
            "_model_name": "DescriptionStyleModel",
            "description_width": "",
            "_view_module": "@jupyter-widgets/base",
            "_model_module_version": "1.5.0",
            "_view_count": null,
            "_view_module_version": "1.2.0",
            "_model_module": "@jupyter-widgets/controls"
          }
        },
        "81ee1b1d9a0a4bbca4793922b77e2844": {
          "model_module": "@jupyter-widgets/base",
          "model_name": "LayoutModel",
          "model_module_version": "1.2.0",
          "state": {
            "_view_name": "LayoutView",
            "grid_template_rows": null,
            "right": null,
            "justify_content": null,
            "_view_module": "@jupyter-widgets/base",
            "overflow": null,
            "_model_module_version": "1.2.0",
            "_view_count": null,
            "flex_flow": null,
            "width": null,
            "min_width": null,
            "border": null,
            "align_items": null,
            "bottom": null,
            "_model_module": "@jupyter-widgets/base",
            "top": null,
            "grid_column": null,
            "overflow_y": null,
            "overflow_x": null,
            "grid_auto_flow": null,
            "grid_area": null,
            "grid_template_columns": null,
            "flex": null,
            "_model_name": "LayoutModel",
            "justify_items": null,
            "grid_row": null,
            "max_height": null,
            "align_content": null,
            "visibility": null,
            "align_self": null,
            "height": null,
            "min_height": null,
            "padding": null,
            "grid_auto_rows": null,
            "grid_gap": null,
            "max_width": null,
            "order": null,
            "_view_module_version": "1.2.0",
            "grid_template_areas": null,
            "object_position": null,
            "object_fit": null,
            "grid_auto_columns": null,
            "margin": null,
            "display": null,
            "left": null
          }
        },
        "29874cba6b854b01b10841d0edc7bb05": {
          "model_module": "@jupyter-widgets/controls",
          "model_name": "HBoxModel",
          "model_module_version": "1.5.0",
          "state": {
            "_view_name": "HBoxView",
            "_dom_classes": [],
            "_model_name": "HBoxModel",
            "_view_module": "@jupyter-widgets/controls",
            "_model_module_version": "1.5.0",
            "_view_count": null,
            "_view_module_version": "1.5.0",
            "box_style": "",
            "layout": "IPY_MODEL_02b3655ea1804f0e89ca1ab292803538",
            "_model_module": "@jupyter-widgets/controls",
            "children": [
              "IPY_MODEL_8548019aed57479f81c614ea91fd2fab",
              "IPY_MODEL_eb7d020846ec445fb0babaf66a59dc18"
            ]
          }
        },
        "02b3655ea1804f0e89ca1ab292803538": {
          "model_module": "@jupyter-widgets/base",
          "model_name": "LayoutModel",
          "model_module_version": "1.2.0",
          "state": {
            "_view_name": "LayoutView",
            "grid_template_rows": null,
            "right": null,
            "justify_content": null,
            "_view_module": "@jupyter-widgets/base",
            "overflow": null,
            "_model_module_version": "1.2.0",
            "_view_count": null,
            "flex_flow": null,
            "width": null,
            "min_width": null,
            "border": null,
            "align_items": null,
            "bottom": null,
            "_model_module": "@jupyter-widgets/base",
            "top": null,
            "grid_column": null,
            "overflow_y": null,
            "overflow_x": null,
            "grid_auto_flow": null,
            "grid_area": null,
            "grid_template_columns": null,
            "flex": null,
            "_model_name": "LayoutModel",
            "justify_items": null,
            "grid_row": null,
            "max_height": null,
            "align_content": null,
            "visibility": null,
            "align_self": null,
            "height": null,
            "min_height": null,
            "padding": null,
            "grid_auto_rows": null,
            "grid_gap": null,
            "max_width": null,
            "order": null,
            "_view_module_version": "1.2.0",
            "grid_template_areas": null,
            "object_position": null,
            "object_fit": null,
            "grid_auto_columns": null,
            "margin": null,
            "display": null,
            "left": null
          }
        },
        "8548019aed57479f81c614ea91fd2fab": {
          "model_module": "@jupyter-widgets/controls",
          "model_name": "FloatProgressModel",
          "model_module_version": "1.5.0",
          "state": {
            "_view_name": "ProgressView",
            "style": "IPY_MODEL_6b1491335daa46a89aac49286a25f8f1",
            "_dom_classes": [],
            "description": "Downloading: 100%",
            "_model_name": "FloatProgressModel",
            "bar_style": "success",
            "max": 231508,
            "_view_module": "@jupyter-widgets/controls",
            "_model_module_version": "1.5.0",
            "value": 231508,
            "_view_count": null,
            "_view_module_version": "1.5.0",
            "orientation": "horizontal",
            "min": 0,
            "description_tooltip": null,
            "_model_module": "@jupyter-widgets/controls",
            "layout": "IPY_MODEL_3068492a602b49d2b5e250a2722a801e"
          }
        },
        "eb7d020846ec445fb0babaf66a59dc18": {
          "model_module": "@jupyter-widgets/controls",
          "model_name": "HTMLModel",
          "model_module_version": "1.5.0",
          "state": {
            "_view_name": "HTMLView",
            "style": "IPY_MODEL_5e72d1cd777a4dbc92f23430f492ccee",
            "_dom_classes": [],
            "description": "",
            "_model_name": "HTMLModel",
            "placeholder": "​",
            "_view_module": "@jupyter-widgets/controls",
            "_model_module_version": "1.5.0",
            "value": " 232k/232k [00:00&lt;00:00, 1.45MB/s]",
            "_view_count": null,
            "_view_module_version": "1.5.0",
            "description_tooltip": null,
            "_model_module": "@jupyter-widgets/controls",
            "layout": "IPY_MODEL_fc0124ad863a4f339f2641846895dd66"
          }
        },
        "6b1491335daa46a89aac49286a25f8f1": {
          "model_module": "@jupyter-widgets/controls",
          "model_name": "ProgressStyleModel",
          "model_module_version": "1.5.0",
          "state": {
            "_view_name": "StyleView",
            "_model_name": "ProgressStyleModel",
            "description_width": "initial",
            "_view_module": "@jupyter-widgets/base",
            "_model_module_version": "1.5.0",
            "_view_count": null,
            "_view_module_version": "1.2.0",
            "bar_color": null,
            "_model_module": "@jupyter-widgets/controls"
          }
        },
        "3068492a602b49d2b5e250a2722a801e": {
          "model_module": "@jupyter-widgets/base",
          "model_name": "LayoutModel",
          "model_module_version": "1.2.0",
          "state": {
            "_view_name": "LayoutView",
            "grid_template_rows": null,
            "right": null,
            "justify_content": null,
            "_view_module": "@jupyter-widgets/base",
            "overflow": null,
            "_model_module_version": "1.2.0",
            "_view_count": null,
            "flex_flow": null,
            "width": null,
            "min_width": null,
            "border": null,
            "align_items": null,
            "bottom": null,
            "_model_module": "@jupyter-widgets/base",
            "top": null,
            "grid_column": null,
            "overflow_y": null,
            "overflow_x": null,
            "grid_auto_flow": null,
            "grid_area": null,
            "grid_template_columns": null,
            "flex": null,
            "_model_name": "LayoutModel",
            "justify_items": null,
            "grid_row": null,
            "max_height": null,
            "align_content": null,
            "visibility": null,
            "align_self": null,
            "height": null,
            "min_height": null,
            "padding": null,
            "grid_auto_rows": null,
            "grid_gap": null,
            "max_width": null,
            "order": null,
            "_view_module_version": "1.2.0",
            "grid_template_areas": null,
            "object_position": null,
            "object_fit": null,
            "grid_auto_columns": null,
            "margin": null,
            "display": null,
            "left": null
          }
        },
        "5e72d1cd777a4dbc92f23430f492ccee": {
          "model_module": "@jupyter-widgets/controls",
          "model_name": "DescriptionStyleModel",
          "model_module_version": "1.5.0",
          "state": {
            "_view_name": "StyleView",
            "_model_name": "DescriptionStyleModel",
            "description_width": "",
            "_view_module": "@jupyter-widgets/base",
            "_model_module_version": "1.5.0",
            "_view_count": null,
            "_view_module_version": "1.2.0",
            "_model_module": "@jupyter-widgets/controls"
          }
        },
        "fc0124ad863a4f339f2641846895dd66": {
          "model_module": "@jupyter-widgets/base",
          "model_name": "LayoutModel",
          "model_module_version": "1.2.0",
          "state": {
            "_view_name": "LayoutView",
            "grid_template_rows": null,
            "right": null,
            "justify_content": null,
            "_view_module": "@jupyter-widgets/base",
            "overflow": null,
            "_model_module_version": "1.2.0",
            "_view_count": null,
            "flex_flow": null,
            "width": null,
            "min_width": null,
            "border": null,
            "align_items": null,
            "bottom": null,
            "_model_module": "@jupyter-widgets/base",
            "top": null,
            "grid_column": null,
            "overflow_y": null,
            "overflow_x": null,
            "grid_auto_flow": null,
            "grid_area": null,
            "grid_template_columns": null,
            "flex": null,
            "_model_name": "LayoutModel",
            "justify_items": null,
            "grid_row": null,
            "max_height": null,
            "align_content": null,
            "visibility": null,
            "align_self": null,
            "height": null,
            "min_height": null,
            "padding": null,
            "grid_auto_rows": null,
            "grid_gap": null,
            "max_width": null,
            "order": null,
            "_view_module_version": "1.2.0",
            "grid_template_areas": null,
            "object_position": null,
            "object_fit": null,
            "grid_auto_columns": null,
            "margin": null,
            "display": null,
            "left": null
          }
        }
      }
    }
  },
  "cells": [
    {
      "cell_type": "markdown",
      "metadata": {
        "id": "ru1azM_Beb8Y"
      },
      "source": [
        "ASSIGNMENT 1 - \n",
        "Name : Chairani Tiara Sayyu\n",
        "Matrix Number : P104718"
      ]
    },
    {
      "cell_type": "code",
      "metadata": {
        "id": "Xgbcz-Uycw2o",
        "colab": {
          "base_uri": "https://localhost:8080/"
        },
        "outputId": "1ee184c2-1d13-4ae5-fd5f-6fdbdcfeadd8"
      },
      "source": [
        "import sys\n",
        "import nltk\n",
        "\n",
        "import nltk\n",
        "from nltk.stem import WordNetLemmatizer\n",
        "from nltk.stem import PorterStemmer\n",
        "from nltk.stem import LancasterStemmer\n",
        "from nltk.corpus import stopwords\n",
        "nltk.download('averaged_perceptron_tagger')\n",
        "nltk.download('punkt')\n",
        "nltk.download('wordnet')\n",
        "\n",
        "import pandas as pd\n",
        "import numpy as np\n",
        "from tqdm import tqdm\n",
        "tqdm.pandas(desc=\"progress-bar\")\n",
        "from gensim.models import Doc2Vec\n",
        "from sklearn import utils\n",
        "from sklearn.model_selection import train_test_split\n",
        "import gensim\n",
        "from sklearn.linear_model import LogisticRegression\n",
        "from gensim.models.doc2vec import TaggedDocument\n",
        "import re\n",
        "import seaborn as sns\n",
        "import matplotlib.pyplot as plt\n",
        "\n",
        "from sklearn.metrics import accuracy_score, f1_score, precision_score, recall_score"
      ],
      "execution_count": null,
      "outputs": [
        {
          "output_type": "stream",
          "text": [
            "[nltk_data] Downloading package averaged_perceptron_tagger to\n",
            "[nltk_data]     /root/nltk_data...\n",
            "[nltk_data]   Unzipping taggers/averaged_perceptron_tagger.zip.\n",
            "[nltk_data] Downloading package punkt to /root/nltk_data...\n",
            "[nltk_data]   Unzipping tokenizers/punkt.zip.\n",
            "[nltk_data] Downloading package wordnet to /root/nltk_data...\n",
            "[nltk_data]   Unzipping corpora/wordnet.zip.\n"
          ],
          "name": "stdout"
        }
      ]
    },
    {
      "cell_type": "code",
      "metadata": {
        "id": "N9CLQ7olc6hK",
        "colab": {
          "base_uri": "https://localhost:8080/",
          "height": 669
        },
        "outputId": "4feef014-7feb-4c16-f5a3-140d1ddc18dd"
      },
      "source": [
        "df = pd.read_csv('dataset.csv')\n",
        "df = df[['text','humor']]\n",
        "df.head(20)"
      ],
      "execution_count": null,
      "outputs": [
        {
          "output_type": "execute_result",
          "data": {
            "text/html": [
              "<div>\n",
              "<style scoped>\n",
              "    .dataframe tbody tr th:only-of-type {\n",
              "        vertical-align: middle;\n",
              "    }\n",
              "\n",
              "    .dataframe tbody tr th {\n",
              "        vertical-align: top;\n",
              "    }\n",
              "\n",
              "    .dataframe thead th {\n",
              "        text-align: right;\n",
              "    }\n",
              "</style>\n",
              "<table border=\"1\" class=\"dataframe\">\n",
              "  <thead>\n",
              "    <tr style=\"text-align: right;\">\n",
              "      <th></th>\n",
              "      <th>text</th>\n",
              "      <th>humor</th>\n",
              "    </tr>\n",
              "  </thead>\n",
              "  <tbody>\n",
              "    <tr>\n",
              "      <th>0</th>\n",
              "      <td>Joe biden rules out 2020 bid: 'guys, i'm not r...</td>\n",
              "      <td>False</td>\n",
              "    </tr>\n",
              "    <tr>\n",
              "      <th>1</th>\n",
              "      <td>Watch: darvish gave hitter whiplash with slow ...</td>\n",
              "      <td>False</td>\n",
              "    </tr>\n",
              "    <tr>\n",
              "      <th>2</th>\n",
              "      <td>What do you call a turtle without its shell? d...</td>\n",
              "      <td>True</td>\n",
              "    </tr>\n",
              "    <tr>\n",
              "      <th>3</th>\n",
              "      <td>5 reasons the 2016 election feels so personal</td>\n",
              "      <td>False</td>\n",
              "    </tr>\n",
              "    <tr>\n",
              "      <th>4</th>\n",
              "      <td>Pasco police shot mexican migrant from behind,...</td>\n",
              "      <td>False</td>\n",
              "    </tr>\n",
              "    <tr>\n",
              "      <th>5</th>\n",
              "      <td>Martha stewart tweets hideous food photo, twit...</td>\n",
              "      <td>False</td>\n",
              "    </tr>\n",
              "    <tr>\n",
              "      <th>6</th>\n",
              "      <td>What is a pokemon master's favorite kind of pa...</td>\n",
              "      <td>True</td>\n",
              "    </tr>\n",
              "    <tr>\n",
              "      <th>7</th>\n",
              "      <td>Why do native americans hate it when it rains ...</td>\n",
              "      <td>True</td>\n",
              "    </tr>\n",
              "    <tr>\n",
              "      <th>8</th>\n",
              "      <td>Obama's climate change legacy is impressive, i...</td>\n",
              "      <td>False</td>\n",
              "    </tr>\n",
              "    <tr>\n",
              "      <th>9</th>\n",
              "      <td>My family tree is a cactus, we're all pricks.</td>\n",
              "      <td>True</td>\n",
              "    </tr>\n",
              "    <tr>\n",
              "      <th>10</th>\n",
              "      <td>Donald trump has found something mysterious fo...</td>\n",
              "      <td>False</td>\n",
              "    </tr>\n",
              "    <tr>\n",
              "      <th>11</th>\n",
              "      <td>How donald trump and ted cruz's love affair is...</td>\n",
              "      <td>False</td>\n",
              "    </tr>\n",
              "    <tr>\n",
              "      <th>12</th>\n",
              "      <td>Want to know why athletes chose to #takeaknee?...</td>\n",
              "      <td>False</td>\n",
              "    </tr>\n",
              "    <tr>\n",
              "      <th>13</th>\n",
              "      <td>How are music and candy similar? we throw away...</td>\n",
              "      <td>True</td>\n",
              "    </tr>\n",
              "    <tr>\n",
              "      <th>14</th>\n",
              "      <td>Famous couples who help each other stay health...</td>\n",
              "      <td>False</td>\n",
              "    </tr>\n",
              "    <tr>\n",
              "      <th>15</th>\n",
              "      <td>Study finds strong link between zika and guill...</td>\n",
              "      <td>False</td>\n",
              "    </tr>\n",
              "    <tr>\n",
              "      <th>16</th>\n",
              "      <td>Alec baldwin and wife hilaria welcome another ...</td>\n",
              "      <td>False</td>\n",
              "    </tr>\n",
              "    <tr>\n",
              "      <th>17</th>\n",
              "      <td>Trump says iran is complying with nuclear deal...</td>\n",
              "      <td>False</td>\n",
              "    </tr>\n",
              "    <tr>\n",
              "      <th>18</th>\n",
              "      <td>Kim kardashian baby name: reality star discuss...</td>\n",
              "      <td>False</td>\n",
              "    </tr>\n",
              "    <tr>\n",
              "      <th>19</th>\n",
              "      <td>I just ended a 5 year relationship i'm fine, i...</td>\n",
              "      <td>True</td>\n",
              "    </tr>\n",
              "  </tbody>\n",
              "</table>\n",
              "</div>"
            ],
            "text/plain": [
              "                                                 text  humor\n",
              "0   Joe biden rules out 2020 bid: 'guys, i'm not r...  False\n",
              "1   Watch: darvish gave hitter whiplash with slow ...  False\n",
              "2   What do you call a turtle without its shell? d...   True\n",
              "3       5 reasons the 2016 election feels so personal  False\n",
              "4   Pasco police shot mexican migrant from behind,...  False\n",
              "5   Martha stewart tweets hideous food photo, twit...  False\n",
              "6   What is a pokemon master's favorite kind of pa...   True\n",
              "7   Why do native americans hate it when it rains ...   True\n",
              "8   Obama's climate change legacy is impressive, i...  False\n",
              "9       My family tree is a cactus, we're all pricks.   True\n",
              "10  Donald trump has found something mysterious fo...  False\n",
              "11  How donald trump and ted cruz's love affair is...  False\n",
              "12  Want to know why athletes chose to #takeaknee?...  False\n",
              "13  How are music and candy similar? we throw away...   True\n",
              "14  Famous couples who help each other stay health...  False\n",
              "15  Study finds strong link between zika and guill...  False\n",
              "16  Alec baldwin and wife hilaria welcome another ...  False\n",
              "17  Trump says iran is complying with nuclear deal...  False\n",
              "18  Kim kardashian baby name: reality star discuss...  False\n",
              "19  I just ended a 5 year relationship i'm fine, i...   True"
            ]
          },
          "metadata": {
            "tags": []
          },
          "execution_count": 2
        }
      ]
    },
    {
      "cell_type": "code",
      "metadata": {
        "id": "xJkWDcrbesNg",
        "colab": {
          "base_uri": "https://localhost:8080/"
        },
        "outputId": "2683b17e-06f5-462a-a3ec-de53f29f947b"
      },
      "source": [
        "df.shape"
      ],
      "execution_count": null,
      "outputs": [
        {
          "output_type": "execute_result",
          "data": {
            "text/plain": [
              "(70540, 2)"
            ]
          },
          "metadata": {
            "tags": []
          },
          "execution_count": 3
        }
      ]
    },
    {
      "cell_type": "code",
      "metadata": {
        "id": "QQOFdSvMeuk1",
        "colab": {
          "base_uri": "https://localhost:8080/"
        },
        "outputId": "ecca4b79-630d-4858-aeb0-4c6be8a86a3b"
      },
      "source": [
        "df.info()"
      ],
      "execution_count": null,
      "outputs": [
        {
          "output_type": "stream",
          "text": [
            "<class 'pandas.core.frame.DataFrame'>\n",
            "RangeIndex: 70540 entries, 0 to 70539\n",
            "Data columns (total 2 columns):\n",
            " #   Column  Non-Null Count  Dtype \n",
            "---  ------  --------------  ----- \n",
            " 0   text    70540 non-null  object\n",
            " 1   humor   70539 non-null  object\n",
            "dtypes: object(2)\n",
            "memory usage: 1.1+ MB\n"
          ],
          "name": "stdout"
        }
      ]
    },
    {
      "cell_type": "code",
      "metadata": {
        "id": "eBzpCbDnex23",
        "colab": {
          "base_uri": "https://localhost:8080/"
        },
        "outputId": "5ad49d3c-a4f0-46ae-a98b-532014459827"
      },
      "source": [
        "df.index = range(70540)\n",
        "df['text'].apply(lambda x: len(x.split(' '))).sum()"
      ],
      "execution_count": null,
      "outputs": [
        {
          "output_type": "execute_result",
          "data": {
            "text/plain": [
              "845911"
            ]
          },
          "metadata": {
            "tags": []
          },
          "execution_count": 6
        }
      ]
    },
    {
      "cell_type": "code",
      "metadata": {
        "id": "wDa1kx4we3dc",
        "colab": {
          "base_uri": "https://localhost:8080/",
          "height": 352
        },
        "outputId": "a57cbda4-344a-466c-e453-5610c901d206"
      },
      "source": [
        "cnt_pro = df['humor'].value_counts()\n",
        "plt.figure(figsize=(12,4))\n",
        "sns.barplot(cnt_pro.index, cnt_pro.values, alpha=0.8)\n",
        "plt.ylabel('Short Text', fontsize=12)\n",
        "\n",
        "plt.xlabel('Humor Type', fontsize=12)\n",
        "plt.xticks(rotation=90)\n",
        "plt.show();"
      ],
      "execution_count": null,
      "outputs": [
        {
          "output_type": "stream",
          "text": [
            "/usr/local/lib/python3.6/dist-packages/seaborn/_decorators.py:43: FutureWarning: Pass the following variables as keyword args: x, y. From version 0.12, the only valid positional argument will be `data`, and passing other arguments without an explicit keyword will result in an error or misinterpretation.\n",
            "  FutureWarning\n"
          ],
          "name": "stderr"
        },
        {
          "output_type": "display_data",
          "data": {
            "image/png": "[encoded data removed]",
            "text/plain": [
              "<Figure size 864x288 with 1 Axes>"
            ]
          },
          "metadata": {
            "tags": [],
            "needs_background": "light"
          }
        }
      ]
    },
    {
      "cell_type": "code",
      "metadata": {
        "id": "UKoO6LF1e4et",
        "colab": {
          "base_uri": "https://localhost:8080/"
        },
        "outputId": "f1a6c4f9-18e2-4485-df80-691a7b1bee49"
      },
      "source": [
        "def print_requirementFeedback(index):\n",
        "    #example = df[df.index == index][['text', 'humor']].values[0]\n",
        "    example = df[df.index == index][['text', 'humor']].values[0]\n",
        "    if len(example) > 0:\n",
        "        print(example[0])\n",
        "        print('Humor Type:', example[1])\n",
        "print_requirementFeedback(12)"
      ],
      "execution_count": null,
      "outputs": [
        {
          "output_type": "stream",
          "text": [
            "Want to know why athletes chose to #takeaknee? look at our broken justice system\n",
            "Humor Type: False\n"
          ],
          "name": "stdout"
        }
      ]
    },
    {
      "cell_type": "markdown",
      "metadata": {
        "id": "xKvE1F5he7fx"
      },
      "source": [
        "DATA PRE PROCESSING"
      ]
    },
    {
      "cell_type": "code",
      "metadata": {
        "id": "S5lieV2oe9G7"
      },
      "source": [
        "from bs4 import BeautifulSoup\n",
        "def cleanText(text):\n",
        "    text = BeautifulSoup(text, \"lxml\").text\n",
        "    text = re.sub(r'\\|\\|\\|', r' ', text) \n",
        "    text = re.sub(r'http\\S+', r'<URL>', text)\n",
        "    text = text.lower()\n",
        "    text = text.replace('x', '')\n",
        "    return text\n",
        "df['text'] = df['text'].apply(cleanText)"
      ],
      "execution_count": null,
      "outputs": []
    },
    {
      "cell_type": "code",
      "metadata": {
        "id": "t03176hdg5s6",
        "colab": {
          "base_uri": "https://localhost:8080/",
          "height": 204
        },
        "outputId": "a366246f-fabb-42d4-8a02-cbcea94cf6aa"
      },
      "source": [
        "df.head()"
      ],
      "execution_count": null,
      "outputs": [
        {
          "output_type": "execute_result",
          "data": {
            "text/html": [
              "<div>\n",
              "<style scoped>\n",
              "    .dataframe tbody tr th:only-of-type {\n",
              "        vertical-align: middle;\n",
              "    }\n",
              "\n",
              "    .dataframe tbody tr th {\n",
              "        vertical-align: top;\n",
              "    }\n",
              "\n",
              "    .dataframe thead th {\n",
              "        text-align: right;\n",
              "    }\n",
              "</style>\n",
              "<table border=\"1\" class=\"dataframe\">\n",
              "  <thead>\n",
              "    <tr style=\"text-align: right;\">\n",
              "      <th></th>\n",
              "      <th>text</th>\n",
              "      <th>humor</th>\n",
              "    </tr>\n",
              "  </thead>\n",
              "  <tbody>\n",
              "    <tr>\n",
              "      <th>0</th>\n",
              "      <td>joe biden rules out 2020 bid: 'guys, i'm not r...</td>\n",
              "      <td>False</td>\n",
              "    </tr>\n",
              "    <tr>\n",
              "      <th>1</th>\n",
              "      <td>watch: darvish gave hitter whiplash with slow ...</td>\n",
              "      <td>False</td>\n",
              "    </tr>\n",
              "    <tr>\n",
              "      <th>2</th>\n",
              "      <td>what do you call a turtle without its shell? d...</td>\n",
              "      <td>True</td>\n",
              "    </tr>\n",
              "    <tr>\n",
              "      <th>3</th>\n",
              "      <td>5 reasons the 2016 election feels so personal</td>\n",
              "      <td>False</td>\n",
              "    </tr>\n",
              "    <tr>\n",
              "      <th>4</th>\n",
              "      <td>pasco police shot meican migrant from behind, ...</td>\n",
              "      <td>False</td>\n",
              "    </tr>\n",
              "  </tbody>\n",
              "</table>\n",
              "</div>"
            ],
            "text/plain": [
              "                                                text  humor\n",
              "0  joe biden rules out 2020 bid: 'guys, i'm not r...  False\n",
              "1  watch: darvish gave hitter whiplash with slow ...  False\n",
              "2  what do you call a turtle without its shell? d...   True\n",
              "3      5 reasons the 2016 election feels so personal  False\n",
              "4  pasco police shot meican migrant from behind, ...  False"
            ]
          },
          "metadata": {
            "tags": []
          },
          "execution_count": 10
        }
      ]
    },
    {
      "cell_type": "code",
      "metadata": {
        "id": "NRWY9Ddxg8DX",
        "colab": {
          "base_uri": "https://localhost:8080/"
        },
        "outputId": "02ad4eba-3531-4b24-a12d-3f528125873a"
      },
      "source": [
        "df['text'].head()"
      ],
      "execution_count": null,
      "outputs": [
        {
          "output_type": "execute_result",
          "data": {
            "text/plain": [
              "0    joe biden rules out 2020 bid: 'guys, i'm not r...\n",
              "1    watch: darvish gave hitter whiplash with slow ...\n",
              "2    what do you call a turtle without its shell? d...\n",
              "3        5 reasons the 2016 election feels so personal\n",
              "4    pasco police shot meican migrant from behind, ...\n",
              "Name: text, dtype: object"
            ]
          },
          "metadata": {
            "tags": []
          },
          "execution_count": 11
        }
      ]
    },
    {
      "cell_type": "code",
      "metadata": {
        "id": "uqfl-FHbLyyF",
        "colab": {
          "base_uri": "https://localhost:8080/",
          "height": 204
        },
        "outputId": "f1cf9316-8879-4a02-fe10-4d022833b059"
      },
      "source": [
        "df.head()"
      ],
      "execution_count": null,
      "outputs": [
        {
          "output_type": "execute_result",
          "data": {
            "text/html": [
              "<div>\n",
              "<style scoped>\n",
              "    .dataframe tbody tr th:only-of-type {\n",
              "        vertical-align: middle;\n",
              "    }\n",
              "\n",
              "    .dataframe tbody tr th {\n",
              "        vertical-align: top;\n",
              "    }\n",
              "\n",
              "    .dataframe thead th {\n",
              "        text-align: right;\n",
              "    }\n",
              "</style>\n",
              "<table border=\"1\" class=\"dataframe\">\n",
              "  <thead>\n",
              "    <tr style=\"text-align: right;\">\n",
              "      <th></th>\n",
              "      <th>text</th>\n",
              "      <th>humor</th>\n",
              "    </tr>\n",
              "  </thead>\n",
              "  <tbody>\n",
              "    <tr>\n",
              "      <th>0</th>\n",
              "      <td>joe biden rules out 2020 bid: 'guys, i'm not r...</td>\n",
              "      <td>False</td>\n",
              "    </tr>\n",
              "    <tr>\n",
              "      <th>1</th>\n",
              "      <td>watch: darvish gave hitter whiplash with slow ...</td>\n",
              "      <td>False</td>\n",
              "    </tr>\n",
              "    <tr>\n",
              "      <th>2</th>\n",
              "      <td>what do you call a turtle without its shell? d...</td>\n",
              "      <td>True</td>\n",
              "    </tr>\n",
              "    <tr>\n",
              "      <th>3</th>\n",
              "      <td>5 reasons the 2016 election feels so personal</td>\n",
              "      <td>False</td>\n",
              "    </tr>\n",
              "    <tr>\n",
              "      <th>4</th>\n",
              "      <td>pasco police shot meican migrant from behind, ...</td>\n",
              "      <td>False</td>\n",
              "    </tr>\n",
              "  </tbody>\n",
              "</table>\n",
              "</div>"
            ],
            "text/plain": [
              "                                                text  humor\n",
              "0  joe biden rules out 2020 bid: 'guys, i'm not r...  False\n",
              "1  watch: darvish gave hitter whiplash with slow ...  False\n",
              "2  what do you call a turtle without its shell? d...   True\n",
              "3      5 reasons the 2016 election feels so personal  False\n",
              "4  pasco police shot meican migrant from behind, ...  False"
            ]
          },
          "metadata": {
            "tags": []
          },
          "execution_count": 12
        }
      ]
    },
    {
      "cell_type": "markdown",
      "metadata": {
        "id": "XcOVEGlxsNYI"
      },
      "source": [
        "BUILDING LEXICON SENTIMENT"
      ]
    },
    {
      "cell_type": "code",
      "metadata": {
        "id": "yfWjFnBhCnFK",
        "colab": {
          "base_uri": "https://localhost:8080/"
        },
        "outputId": "a4f92f3e-2d90-4738-a0aa-04c522f5942f"
      },
      "source": [
        "new_data = df[df['humor']=='True']\n",
        "print(new_data)"
      ],
      "execution_count": null,
      "outputs": [
        {
          "output_type": "stream",
          "text": [
            "Empty DataFrame\n",
            "Columns: [text, humor]\n",
            "Index: []\n"
          ],
          "name": "stdout"
        }
      ]
    },
    {
      "cell_type": "code",
      "metadata": {
        "id": "dOca5R8YC899",
        "colab": {
          "base_uri": "https://localhost:8080/"
        },
        "outputId": "31ae40c4-6638-46fb-ba31-f3bc34602c1f"
      },
      "source": [
        "# install spacy: conda install -c conda-forge spacy\n",
        "import spacy\n",
        "# go to anaconda prompt(run as admin):python -m spacy download en_core_web_sm\n",
        "nlp = spacy.load('en_core_web_sm')\n",
        "text_string = str(df.text)\n",
        "doc = nlp(text_string)\n",
        "for token in doc:\n",
        "    print(token.text,  token.pos_)"
      ],
      "execution_count": null,
      "outputs": [
        {
          "output_type": "stream",
          "text": [
            "0 PUNCT\n",
            "         SPACE\n",
            "joe PROPN\n",
            "biden PROPN\n",
            "rules VERB\n",
            "out ADP\n",
            "2020 NUM\n",
            "bid NOUN\n",
            ": PUNCT\n",
            "' PUNCT\n",
            "guys NOUN\n",
            ", PUNCT\n",
            "i PRON\n",
            "'m AUX\n",
            "not PART\n",
            "r NOUN\n",
            "... PUNCT\n",
            "\n",
            " SPACE\n",
            "1 NUM\n",
            "         SPACE\n",
            "watch NOUN\n",
            ": PUNCT\n",
            "darvish PROPN\n",
            "gave VERB\n",
            "hitter PROPN\n",
            "whiplash PROPN\n",
            "with ADP\n",
            "slow ADJ\n",
            "... PUNCT\n",
            "\n",
            " SPACE\n",
            "2 NUM\n",
            "         SPACE\n",
            "what PRON\n",
            "do AUX\n",
            "you PRON\n",
            "call VERB\n",
            "a DET\n",
            "turtle NOUN\n",
            "without ADP\n",
            "its DET\n",
            "shell NOUN\n",
            "? PUNCT\n",
            "d X\n",
            "... PUNCT\n",
            "\n",
            " SPACE\n",
            "3 NUM\n",
            "             SPACE\n",
            "5 NUM\n",
            "reasons NOUN\n",
            "the DET\n",
            "2016 NUM\n",
            "election NOUN\n",
            "feels VERB\n",
            "so ADV\n",
            "personal ADJ\n",
            "\n",
            " SPACE\n",
            "4 NUM\n",
            "         SPACE\n",
            "pasco PROPN\n",
            "police NOUN\n",
            "shot VERB\n",
            "meican ADJ\n",
            "migrant NOUN\n",
            "from ADP\n",
            "behind ADV\n",
            ", PUNCT\n",
            "... PUNCT\n",
            "\n",
            "                                 SPACE\n",
            "... PUNCT\n",
            "                       \n",
            " SPACE\n",
            "199995 NUM\n",
            "    SPACE\n",
            "conor PROPN\n",
            "maynard PROPN\n",
            "seamlessly ADV\n",
            "fits VERB\n",
            "old ADJ\n",
            "- PUNCT\n",
            "school NOUN\n",
            "r&b NOUN\n",
            "h PROPN\n",
            "... PUNCT\n",
            "\n",
            " SPACE\n",
            "199996 NUM\n",
            "    SPACE\n",
            "how ADV\n",
            "to ADP\n",
            "you PRON\n",
            "make VERB\n",
            "holy ADJ\n",
            "water NOUN\n",
            "? PUNCT\n",
            "you PRON\n",
            "boil VERB\n",
            "the DET\n",
            "hell NOUN\n",
            "... PUNCT\n",
            "\n",
            " SPACE\n",
            "199997 NUM\n",
            "    SPACE\n",
            "how ADV\n",
            "many ADJ\n",
            "optometrists NOUN\n",
            "does AUX\n",
            "it PRON\n",
            "take VERB\n",
            "to PART\n",
            "screw VERB\n",
            "in ADP\n",
            "... PUNCT\n",
            "\n",
            " SPACE\n",
            "199998 NUM\n",
            "    SPACE\n",
            "mcdonald PROPN\n",
            "'s PART\n",
            "will VERB\n",
            "officially ADV\n",
            "kick VERB\n",
            "off ADP\n",
            "all DET\n",
            "- PUNCT\n",
            "day NOUN\n",
            "br ADP\n",
            "... PUNCT\n",
            "\n",
            " SPACE\n",
            "199999 NUM\n",
            "    SPACE\n",
            "an DET\n",
            "irish ADJ\n",
            "man NOUN\n",
            "walks VERB\n",
            "on ADP\n",
            "the DET\n",
            "street NOUN\n",
            "and CCONJ\n",
            "ignores VERB\n",
            "a DET\n",
            "... PUNCT\n",
            "\n",
            " SPACE\n",
            "Name NOUN\n",
            ": PUNCT\n",
            "text NOUN\n",
            ", PUNCT\n",
            "Length NOUN\n",
            ": PUNCT\n",
            "200000 NUM\n",
            ", PUNCT\n",
            "dtype NOUN\n",
            ": PUNCT\n",
            "object NOUN\n"
          ],
          "name": "stdout"
        }
      ]
    },
    {
      "cell_type": "code",
      "metadata": {
        "id": "YKKsb0gbDfyQ",
        "colab": {
          "base_uri": "https://localhost:8080/",
          "height": 419
        },
        "outputId": "672c1ffe-e1a8-4f7e-c4a0-f977ff2c5dcc"
      },
      "source": [
        "import pandas as pd\n",
        " \n",
        "cols = (\"text\", \"POS\")\n",
        "rows = []\n",
        " \n",
        "for t in doc:\n",
        "    row = [t.text, t.pos_]\n",
        "    rows.append(row)\n",
        " \n",
        "df1 = pd.DataFrame(rows, columns=cols)\n",
        " \n",
        "df1"
      ],
      "execution_count": null,
      "outputs": [
        {
          "output_type": "execute_result",
          "data": {
            "text/html": [
              "<div>\n",
              "<style scoped>\n",
              "    .dataframe tbody tr th:only-of-type {\n",
              "        vertical-align: middle;\n",
              "    }\n",
              "\n",
              "    .dataframe tbody tr th {\n",
              "        vertical-align: top;\n",
              "    }\n",
              "\n",
              "    .dataframe thead th {\n",
              "        text-align: right;\n",
              "    }\n",
              "</style>\n",
              "<table border=\"1\" class=\"dataframe\">\n",
              "  <thead>\n",
              "    <tr style=\"text-align: right;\">\n",
              "      <th></th>\n",
              "      <th>text</th>\n",
              "      <th>POS</th>\n",
              "    </tr>\n",
              "  </thead>\n",
              "  <tbody>\n",
              "    <tr>\n",
              "      <th>0</th>\n",
              "      <td>0</td>\n",
              "      <td>PUNCT</td>\n",
              "    </tr>\n",
              "    <tr>\n",
              "      <th>1</th>\n",
              "      <td></td>\n",
              "      <td>SPACE</td>\n",
              "    </tr>\n",
              "    <tr>\n",
              "      <th>2</th>\n",
              "      <td>joe</td>\n",
              "      <td>PROPN</td>\n",
              "    </tr>\n",
              "    <tr>\n",
              "      <th>3</th>\n",
              "      <td>biden</td>\n",
              "      <td>PROPN</td>\n",
              "    </tr>\n",
              "    <tr>\n",
              "      <th>4</th>\n",
              "      <td>rules</td>\n",
              "      <td>VERB</td>\n",
              "    </tr>\n",
              "    <tr>\n",
              "      <th>...</th>\n",
              "      <td>...</td>\n",
              "      <td>...</td>\n",
              "    </tr>\n",
              "    <tr>\n",
              "      <th>145</th>\n",
              "      <td>200000</td>\n",
              "      <td>NUM</td>\n",
              "    </tr>\n",
              "    <tr>\n",
              "      <th>146</th>\n",
              "      <td>,</td>\n",
              "      <td>PUNCT</td>\n",
              "    </tr>\n",
              "    <tr>\n",
              "      <th>147</th>\n",
              "      <td>dtype</td>\n",
              "      <td>NOUN</td>\n",
              "    </tr>\n",
              "    <tr>\n",
              "      <th>148</th>\n",
              "      <td>:</td>\n",
              "      <td>PUNCT</td>\n",
              "    </tr>\n",
              "    <tr>\n",
              "      <th>149</th>\n",
              "      <td>object</td>\n",
              "      <td>NOUN</td>\n",
              "    </tr>\n",
              "  </tbody>\n",
              "</table>\n",
              "<p>150 rows × 2 columns</p>\n",
              "</div>"
            ],
            "text/plain": [
              "         text    POS\n",
              "0           0  PUNCT\n",
              "1              SPACE\n",
              "2         joe  PROPN\n",
              "3       biden  PROPN\n",
              "4       rules   VERB\n",
              "..        ...    ...\n",
              "145    200000    NUM\n",
              "146         ,  PUNCT\n",
              "147     dtype   NOUN\n",
              "148         :  PUNCT\n",
              "149    object   NOUN\n",
              "\n",
              "[150 rows x 2 columns]"
            ]
          },
          "metadata": {
            "tags": []
          },
          "execution_count": 15
        }
      ]
    },
    {
      "cell_type": "code",
      "metadata": {
        "id": "MrZqvtPA8bYl"
      },
      "source": [
        "nlp = spacy.load('en')\n",
        "text_combined = str(text)\n",
        "doc = nlp(text_combined)"
      ],
      "execution_count": null,
      "outputs": []
    },
    {
      "cell_type": "code",
      "metadata": {
        "id": "3gwN7f0hCTBU"
      },
      "source": [
        "textnotHumor = df.loc[df['humor'] == 'FALSE'] "
      ],
      "execution_count": null,
      "outputs": []
    },
    {
      "cell_type": "code",
      "metadata": {
        "id": "reiXZ7lttlHh"
      },
      "source": [
        "textHumor = df.loc[df['humor'] == 'TRUE']"
      ],
      "execution_count": null,
      "outputs": []
    },
    {
      "cell_type": "code",
      "metadata": {
        "id": "DTK8Gol0EvJs",
        "colab": {
          "base_uri": "https://localhost:8080/"
        },
        "outputId": "302a8f1a-8690-48b6-8ca0-aa8e2451c1b9"
      },
      "source": [
        "humorTrue = nlp(text_combined)\n",
        "for token in humorTrue:\n",
        "    print(token.text,  token.pos_)"
      ],
      "execution_count": null,
      "outputs": [
        {
          "output_type": "stream",
          "text": [
            "0 PUNCT\n",
            "         SPACE\n",
            "joe PROPN\n",
            "biden PROPN\n",
            "rules VERB\n",
            "out ADP\n",
            "2020 NUM\n",
            "bid NOUN\n",
            ": PUNCT\n",
            "' PUNCT\n",
            "guys NOUN\n",
            ", PUNCT\n",
            "i PRON\n",
            "'m AUX\n",
            "not PART\n",
            "r NOUN\n",
            "... PUNCT\n",
            "\n",
            " SPACE\n",
            "1 NUM\n",
            "         SPACE\n",
            "watch NOUN\n",
            ": PUNCT\n",
            "darvish PROPN\n",
            "gave VERB\n",
            "hitter PROPN\n",
            "whiplash PROPN\n",
            "with ADP\n",
            "slow ADJ\n",
            "... PUNCT\n",
            "\n",
            " SPACE\n",
            "2 NUM\n",
            "         SPACE\n",
            "what PRON\n",
            "do AUX\n",
            "you PRON\n",
            "call VERB\n",
            "a DET\n",
            "turtle NOUN\n",
            "without ADP\n",
            "its DET\n",
            "shell NOUN\n",
            "? PUNCT\n",
            "d X\n",
            "... PUNCT\n",
            "\n",
            " SPACE\n",
            "3 NUM\n",
            "             SPACE\n",
            "5 NUM\n",
            "reasons NOUN\n",
            "the DET\n",
            "2016 NUM\n",
            "election NOUN\n",
            "feels VERB\n",
            "so ADV\n",
            "personal ADJ\n",
            "\n",
            " SPACE\n",
            "4 NUM\n",
            "         SPACE\n",
            "pasco PROPN\n",
            "police NOUN\n",
            "shot VERB\n",
            "meican ADJ\n",
            "migrant NOUN\n",
            "from ADP\n",
            "behind ADV\n",
            ", PUNCT\n",
            "... PUNCT\n",
            "\n",
            "                                 SPACE\n",
            "... PUNCT\n",
            "                       \n",
            " SPACE\n",
            "199995 NUM\n",
            "    SPACE\n",
            "conor PROPN\n",
            "maynard PROPN\n",
            "seamlessly ADV\n",
            "fits VERB\n",
            "old ADJ\n",
            "- PUNCT\n",
            "school NOUN\n",
            "r&b NOUN\n",
            "h PROPN\n",
            "... PUNCT\n",
            "\n",
            " SPACE\n",
            "199996 NUM\n",
            "    SPACE\n",
            "how ADV\n",
            "to ADP\n",
            "you PRON\n",
            "make VERB\n",
            "holy ADJ\n",
            "water NOUN\n",
            "? PUNCT\n",
            "you PRON\n",
            "boil VERB\n",
            "the DET\n",
            "hell NOUN\n",
            "... PUNCT\n",
            "\n",
            " SPACE\n",
            "199997 NUM\n",
            "    SPACE\n",
            "how ADV\n",
            "many ADJ\n",
            "optometrists NOUN\n",
            "does AUX\n",
            "it PRON\n",
            "take VERB\n",
            "to PART\n",
            "screw VERB\n",
            "in ADP\n",
            "... PUNCT\n",
            "\n",
            " SPACE\n",
            "199998 NUM\n",
            "    SPACE\n",
            "mcdonald PROPN\n",
            "'s PART\n",
            "will VERB\n",
            "officially ADV\n",
            "kick VERB\n",
            "off ADP\n",
            "all DET\n",
            "- PUNCT\n",
            "day NOUN\n",
            "br ADP\n",
            "... PUNCT\n",
            "\n",
            " SPACE\n",
            "199999 NUM\n",
            "    SPACE\n",
            "an DET\n",
            "irish ADJ\n",
            "man NOUN\n",
            "walks VERB\n",
            "on ADP\n",
            "the DET\n",
            "street NOUN\n",
            "and CCONJ\n",
            "ignores VERB\n",
            "a DET\n",
            "... PUNCT\n",
            "\n",
            " SPACE\n",
            "Name NOUN\n",
            ": PUNCT\n",
            "text NOUN\n",
            ", PUNCT\n",
            "Length NOUN\n",
            ": PUNCT\n",
            "200000 NUM\n",
            ", PUNCT\n",
            "dtype NOUN\n",
            ": PUNCT\n",
            "object NOUN\n"
          ],
          "name": "stdout"
        }
      ]
    },
    {
      "cell_type": "code",
      "metadata": {
        "id": "WRiSS8CnACUV",
        "colab": {
          "base_uri": "https://localhost:8080/"
        },
        "outputId": "3ad04de1-46c4-45ec-caa8-d94a69b228e2"
      },
      "source": [
        "humorFalse = nlp(text_combined)\n",
        "for token in humorFalse:\n",
        "    print(token.text,  token.pos_)"
      ],
      "execution_count": null,
      "outputs": [
        {
          "output_type": "stream",
          "text": [
            "0 PUNCT\n",
            "         SPACE\n",
            "joe PROPN\n",
            "biden PROPN\n",
            "rules VERB\n",
            "out ADP\n",
            "2020 NUM\n",
            "bid NOUN\n",
            ": PUNCT\n",
            "' PUNCT\n",
            "guys NOUN\n",
            ", PUNCT\n",
            "i PRON\n",
            "'m AUX\n",
            "not PART\n",
            "r NOUN\n",
            "... PUNCT\n",
            "\n",
            " SPACE\n",
            "1 NUM\n",
            "         SPACE\n",
            "watch NOUN\n",
            ": PUNCT\n",
            "darvish PROPN\n",
            "gave VERB\n",
            "hitter PROPN\n",
            "whiplash PROPN\n",
            "with ADP\n",
            "slow ADJ\n",
            "... PUNCT\n",
            "\n",
            " SPACE\n",
            "2 NUM\n",
            "         SPACE\n",
            "what PRON\n",
            "do AUX\n",
            "you PRON\n",
            "call VERB\n",
            "a DET\n",
            "turtle NOUN\n",
            "without ADP\n",
            "its DET\n",
            "shell NOUN\n",
            "? PUNCT\n",
            "d X\n",
            "... PUNCT\n",
            "\n",
            " SPACE\n",
            "3 NUM\n",
            "             SPACE\n",
            "5 NUM\n",
            "reasons NOUN\n",
            "the DET\n",
            "2016 NUM\n",
            "election NOUN\n",
            "feels VERB\n",
            "so ADV\n",
            "personal ADJ\n",
            "\n",
            " SPACE\n",
            "4 NUM\n",
            "         SPACE\n",
            "pasco PROPN\n",
            "police NOUN\n",
            "shot VERB\n",
            "meican ADJ\n",
            "migrant NOUN\n",
            "from ADP\n",
            "behind ADV\n",
            ", PUNCT\n",
            "... PUNCT\n",
            "\n",
            "                                 SPACE\n",
            "... PUNCT\n",
            "                       \n",
            " SPACE\n",
            "199995 NUM\n",
            "    SPACE\n",
            "conor PROPN\n",
            "maynard PROPN\n",
            "seamlessly ADV\n",
            "fits VERB\n",
            "old ADJ\n",
            "- PUNCT\n",
            "school NOUN\n",
            "r&b NOUN\n",
            "h PROPN\n",
            "... PUNCT\n",
            "\n",
            " SPACE\n",
            "199996 NUM\n",
            "    SPACE\n",
            "how ADV\n",
            "to ADP\n",
            "you PRON\n",
            "make VERB\n",
            "holy ADJ\n",
            "water NOUN\n",
            "? PUNCT\n",
            "you PRON\n",
            "boil VERB\n",
            "the DET\n",
            "hell NOUN\n",
            "... PUNCT\n",
            "\n",
            " SPACE\n",
            "199997 NUM\n",
            "    SPACE\n",
            "how ADV\n",
            "many ADJ\n",
            "optometrists NOUN\n",
            "does AUX\n",
            "it PRON\n",
            "take VERB\n",
            "to PART\n",
            "screw VERB\n",
            "in ADP\n",
            "... PUNCT\n",
            "\n",
            " SPACE\n",
            "199998 NUM\n",
            "    SPACE\n",
            "mcdonald PROPN\n",
            "'s PART\n",
            "will VERB\n",
            "officially ADV\n",
            "kick VERB\n",
            "off ADP\n",
            "all DET\n",
            "- PUNCT\n",
            "day NOUN\n",
            "br ADP\n",
            "... PUNCT\n",
            "\n",
            " SPACE\n",
            "199999 NUM\n",
            "    SPACE\n",
            "an DET\n",
            "irish ADJ\n",
            "man NOUN\n",
            "walks VERB\n",
            "on ADP\n",
            "the DET\n",
            "street NOUN\n",
            "and CCONJ\n",
            "ignores VERB\n",
            "a DET\n",
            "... PUNCT\n",
            "\n",
            " SPACE\n",
            "Name NOUN\n",
            ": PUNCT\n",
            "text NOUN\n",
            ", PUNCT\n",
            "Length NOUN\n",
            ": PUNCT\n",
            "200000 NUM\n",
            ", PUNCT\n",
            "dtype NOUN\n",
            ": PUNCT\n",
            "object NOUN\n"
          ],
          "name": "stdout"
        }
      ]
    },
    {
      "cell_type": "code",
      "metadata": {
        "id": "bX1rnWJBgss2"
      },
      "source": [
        "humor = [humorFalse, humorTrue]"
      ],
      "execution_count": null,
      "outputs": []
    },
    {
      "cell_type": "code",
      "metadata": {
        "id": "QptTxmbchLS3",
        "colab": {
          "base_uri": "https://localhost:8080/"
        },
        "outputId": "4c2ea6b4-7fa4-4577-8217-e4e07e8463a5"
      },
      "source": [
        "#print all the words with tagged pos from the review\n",
        "humor_final = str(humor[0]) # spacy can only take string, so change your return object type into str\n",
        "humor_final = nlp(humor_final) #you will use nlp function from spacy library\n",
        "for token in humor_final: #every word/token in the review\n",
        "  print(token.text,  token.pos_)  # tag into POS"
      ],
      "execution_count": null,
      "outputs": [
        {
          "output_type": "stream",
          "text": [
            "0 PUNCT\n",
            "         SPACE\n",
            "joe PROPN\n",
            "biden PROPN\n",
            "rules VERB\n",
            "out ADP\n",
            "2020 NUM\n",
            "bid NOUN\n",
            ": PUNCT\n",
            "' PUNCT\n",
            "guys NOUN\n",
            ", PUNCT\n",
            "i PRON\n",
            "'m AUX\n",
            "not PART\n",
            "r NOUN\n",
            "... PUNCT\n",
            "\n",
            " SPACE\n",
            "1 NUM\n",
            "         SPACE\n",
            "watch NOUN\n",
            ": PUNCT\n",
            "darvish PROPN\n",
            "gave VERB\n",
            "hitter PROPN\n",
            "whiplash PROPN\n",
            "with ADP\n",
            "slow ADJ\n",
            "... PUNCT\n",
            "\n",
            " SPACE\n",
            "2 NUM\n",
            "         SPACE\n",
            "what PRON\n",
            "do AUX\n",
            "you PRON\n",
            "call VERB\n",
            "a DET\n",
            "turtle NOUN\n",
            "without ADP\n",
            "its DET\n",
            "shell NOUN\n",
            "? PUNCT\n",
            "d X\n",
            "... PUNCT\n",
            "\n",
            " SPACE\n",
            "3 NUM\n",
            "             SPACE\n",
            "5 NUM\n",
            "reasons NOUN\n",
            "the DET\n",
            "2016 NUM\n",
            "election NOUN\n",
            "feels VERB\n",
            "so ADV\n",
            "personal ADJ\n",
            "\n",
            " SPACE\n",
            "4 NUM\n",
            "         SPACE\n",
            "pasco PROPN\n",
            "police NOUN\n",
            "shot VERB\n",
            "meican ADJ\n",
            "migrant NOUN\n",
            "from ADP\n",
            "behind ADV\n",
            ", PUNCT\n",
            "... PUNCT\n",
            "\n",
            "                                 SPACE\n",
            "... PUNCT\n",
            "                       \n",
            " SPACE\n",
            "199995 NUM\n",
            "    SPACE\n",
            "conor PROPN\n",
            "maynard PROPN\n",
            "seamlessly ADV\n",
            "fits VERB\n",
            "old ADJ\n",
            "- PUNCT\n",
            "school NOUN\n",
            "r&b NOUN\n",
            "h PROPN\n",
            "... PUNCT\n",
            "\n",
            " SPACE\n",
            "199996 NUM\n",
            "    SPACE\n",
            "how ADV\n",
            "to ADP\n",
            "you PRON\n",
            "make VERB\n",
            "holy ADJ\n",
            "water NOUN\n",
            "? PUNCT\n",
            "you PRON\n",
            "boil VERB\n",
            "the DET\n",
            "hell NOUN\n",
            "... PUNCT\n",
            "\n",
            " SPACE\n",
            "199997 NUM\n",
            "    SPACE\n",
            "how ADV\n",
            "many ADJ\n",
            "optometrists NOUN\n",
            "does AUX\n",
            "it PRON\n",
            "take VERB\n",
            "to PART\n",
            "screw VERB\n",
            "in ADP\n",
            "... PUNCT\n",
            "\n",
            " SPACE\n",
            "199998 NUM\n",
            "    SPACE\n",
            "mcdonald PROPN\n",
            "'s PART\n",
            "will VERB\n",
            "officially ADV\n",
            "kick VERB\n",
            "off ADP\n",
            "all DET\n",
            "- PUNCT\n",
            "day NOUN\n",
            "br ADP\n",
            "... PUNCT\n",
            "\n",
            " SPACE\n",
            "199999 NUM\n",
            "    SPACE\n",
            "an DET\n",
            "irish ADJ\n",
            "man NOUN\n",
            "walks VERB\n",
            "on ADP\n",
            "the DET\n",
            "street NOUN\n",
            "and CCONJ\n",
            "ignores VERB\n",
            "a DET\n",
            "... PUNCT\n",
            "\n",
            " SPACE\n",
            "Name NOUN\n",
            ": PUNCT\n",
            "text NOUN\n",
            ", PUNCT\n",
            "Length NOUN\n",
            ": PUNCT\n",
            "200000 NUM\n",
            ", PUNCT\n",
            "dtype NOUN\n",
            ": PUNCT\n",
            "object NOUN\n"
          ],
          "name": "stdout"
        }
      ]
    },
    {
      "cell_type": "code",
      "metadata": {
        "id": "Cjw0lnNxheUs"
      },
      "source": [
        "# hints review[0] is negative and review [1] positive\n",
        "# use operator AND for condition expression\n",
        "def mylexicon():\n",
        "  i = 0 #negativereview\n",
        "  humor_final = str(humor[i]) # spacy can only take string, so change your return object type into str\n",
        "  humor_final = nlp(humor_final) #you will use nlp function from spacy library\n",
        "  for token in humor_final: #every word/token in the review\n",
        "    if token.pos_ == 'ADJ' or token.pos_ == 'VERB' or token.pos_ == 'NOUN' or token.pos_ == 'ADVERB' :\n",
        "      print(token.text,  token.pos_, '-1')  # tag into POS # lexicon and polarity\n",
        "\n",
        "  i = 1 #positivereview\n",
        "  humor_final = str(humor[i]) # spacy can only take string, so change your return object type into str\n",
        "  humor_final = nlp(humor_final) #you will use nlp function from spacy library\n",
        "  for token in humor_final: #every word/token in the review\n",
        "    if token.pos_ == 'ADJ' or token.pos_ == 'VERB' or token.pos_ == 'NOUN' or token.pos_ == 'ADVERB' :\n",
        "      print(token.text,  token.pos_, '1')  # tag into POS # lexicon and polarity"
      ],
      "execution_count": null,
      "outputs": []
    },
    {
      "cell_type": "code",
      "metadata": {
        "id": "0wgIAtFAhzTl",
        "colab": {
          "base_uri": "https://localhost:8080/"
        },
        "outputId": "1f3de3b0-4f42-4f99-dc04-3c9a83bc4483"
      },
      "source": [
        "mylexicon()"
      ],
      "execution_count": null,
      "outputs": [
        {
          "output_type": "stream",
          "text": [
            "rules VERB -1\n",
            "bid NOUN -1\n",
            "guys NOUN -1\n",
            "r NOUN -1\n",
            "watch NOUN -1\n",
            "gave VERB -1\n",
            "slow ADJ -1\n",
            "call VERB -1\n",
            "turtle NOUN -1\n",
            "shell NOUN -1\n",
            "reasons NOUN -1\n",
            "election NOUN -1\n",
            "feels VERB -1\n",
            "personal ADJ -1\n",
            "police NOUN -1\n",
            "shot VERB -1\n",
            "meican ADJ -1\n",
            "migrant NOUN -1\n",
            "fits VERB -1\n",
            "old ADJ -1\n",
            "school NOUN -1\n",
            "r&b NOUN -1\n",
            "make VERB -1\n",
            "holy ADJ -1\n",
            "water NOUN -1\n",
            "boil VERB -1\n",
            "hell NOUN -1\n",
            "many ADJ -1\n",
            "optometrists NOUN -1\n",
            "take VERB -1\n",
            "screw VERB -1\n",
            "will VERB -1\n",
            "kick VERB -1\n",
            "day NOUN -1\n",
            "irish ADJ -1\n",
            "man NOUN -1\n",
            "walks VERB -1\n",
            "street NOUN -1\n",
            "ignores VERB -1\n",
            "Name NOUN -1\n",
            "text NOUN -1\n",
            "Length NOUN -1\n",
            "dtype NOUN -1\n",
            "object NOUN -1\n",
            "rules VERB 1\n",
            "bid NOUN 1\n",
            "guys NOUN 1\n",
            "r NOUN 1\n",
            "watch NOUN 1\n",
            "gave VERB 1\n",
            "slow ADJ 1\n",
            "call VERB 1\n",
            "turtle NOUN 1\n",
            "shell NOUN 1\n",
            "reasons NOUN 1\n",
            "election NOUN 1\n",
            "feels VERB 1\n",
            "personal ADJ 1\n",
            "police NOUN 1\n",
            "shot VERB 1\n",
            "meican ADJ 1\n",
            "migrant NOUN 1\n",
            "fits VERB 1\n",
            "old ADJ 1\n",
            "school NOUN 1\n",
            "r&b NOUN 1\n",
            "make VERB 1\n",
            "holy ADJ 1\n",
            "water NOUN 1\n",
            "boil VERB 1\n",
            "hell NOUN 1\n",
            "many ADJ 1\n",
            "optometrists NOUN 1\n",
            "take VERB 1\n",
            "screw VERB 1\n",
            "will VERB 1\n",
            "kick VERB 1\n",
            "day NOUN 1\n",
            "irish ADJ 1\n",
            "man NOUN 1\n",
            "walks VERB 1\n",
            "street NOUN 1\n",
            "ignores VERB 1\n",
            "Name NOUN 1\n",
            "text NOUN 1\n",
            "Length NOUN 1\n",
            "dtype NOUN 1\n",
            "object NOUN 1\n"
          ],
          "name": "stdout"
        }
      ]
    },
    {
      "cell_type": "markdown",
      "metadata": {
        "id": "Y4SWGqeeyjLW"
      },
      "source": [
        "LEXICON BASED - TOOL SENTIMENT ANALYSIS"
      ]
    },
    {
      "cell_type": "code",
      "metadata": {
        "id": "ilPudAOhvg3m"
      },
      "source": [
        "import seaborn as sns\n",
        "# configure size of heatmap\n",
        "sns.set(rc={'figure.figsize':(35,3)})\n",
        "\n",
        "import nltk\n",
        "  #function to visualize \n",
        "def visualize_sentiments(data):\n",
        "  sns.heatmap(pd.DataFrame(data).set_index(\"Sentence\").T,center=0, annot=True, cmap = \"PiYG\")"
      ],
      "execution_count": null,
      "outputs": []
    },
    {
      "cell_type": "code",
      "metadata": {
        "id": "sg3A2LuKyuc3",
        "colab": {
          "base_uri": "https://localhost:8080/"
        },
        "outputId": "2d0a2cf7-0f23-4311-e3b4-98e25e65d1f4"
      },
      "source": [
        "# import libraries\n",
        "import pandas as pd\n",
        "from nltk.sentiment.vader import SentimentIntensityAnalyzer\n",
        "# import model\n",
        "nltk.download('vader_lexicon')\n",
        "\n",
        "def nltkSA(mystc):\n",
        "  \n",
        "  sid = SentimentIntensityAnalyzer() # sentiment analysis\n",
        "  print(sid.polarity_scores(mystc)) # perform sentiment analysis on sentence"
      ],
      "execution_count": null,
      "outputs": [
        {
          "output_type": "stream",
          "text": [
            "[nltk_data] Downloading package vader_lexicon to /root/nltk_data...\n"
          ],
          "name": "stdout"
        },
        {
          "output_type": "stream",
          "text": [
            "/usr/local/lib/python3.6/dist-packages/nltk/twitter/__init__.py:20: UserWarning: The twython library has not been installed. Some functionality from the twitter package will not be available.\n",
            "  warnings.warn(\"The twython library has not been installed. \"\n"
          ],
          "name": "stderr"
        }
      ]
    },
    {
      "cell_type": "code",
      "metadata": {
        "id": "NAPVCiQLzig9"
      },
      "source": [
        "# import libraries\n",
        "import pandas as pd\n",
        "from textblob import TextBlob\n",
        "\n",
        "def textblobSA(mystc):\n",
        "  print(TextBlob(mystc).sentiment)\n"
      ],
      "execution_count": null,
      "outputs": []
    },
    {
      "cell_type": "code",
      "metadata": {
        "id": "Pj_0VevJzWGC",
        "colab": {
          "base_uri": "https://localhost:8080/"
        },
        "outputId": "f01d6513-d6bc-4963-c678-5cacbbb2654d"
      },
      "source": [
        "!pip install flair"
      ],
      "execution_count": null,
      "outputs": [
        {
          "output_type": "stream",
          "text": [
            "Collecting flair\n",
            "\u001b[?25l  Downloading https://files.pythonhosted.org/packages/4a/49/a812ed93088ba9519cbb40eb9f52341694b31cfa126bfddcd9db3761f3ac/flair-0.6.1.post1-py3-none-any.whl (337kB)\n",
            "\r\u001b[K     |█                               | 10kB 17.2MB/s eta 0:00:01\r\u001b[K     |██                              | 20kB 20.1MB/s eta 0:00:01\r\u001b[K     |███                             | 30kB 11.7MB/s eta 0:00:01\r\u001b[K     |███▉                            | 40kB 9.0MB/s eta 0:00:01\r\u001b[K     |████▉                           | 51kB 4.4MB/s eta 0:00:01\r\u001b[K     |█████▉                          | 61kB 4.9MB/s eta 0:00:01\r\u001b[K     |██████▉                         | 71kB 5.3MB/s eta 0:00:01\r\u001b[K     |███████▊                        | 81kB 5.4MB/s eta 0:00:01\r\u001b[K     |████████▊                       | 92kB 5.5MB/s eta 0:00:01\r\u001b[K     |█████████▊                      | 102kB 6.0MB/s eta 0:00:01\r\u001b[K     |██████████▊                     | 112kB 6.0MB/s eta 0:00:01\r\u001b[K     |███████████▋                    | 122kB 6.0MB/s eta 0:00:01\r\u001b[K     |████████████▋                   | 133kB 6.0MB/s eta 0:00:01\r\u001b[K     |█████████████▋                  | 143kB 6.0MB/s eta 0:00:01\r\u001b[K     |██████████████▌                 | 153kB 6.0MB/s eta 0:00:01\r\u001b[K     |███████████████▌                | 163kB 6.0MB/s eta 0:00:01\r\u001b[K     |████████████████▌               | 174kB 6.0MB/s eta 0:00:01\r\u001b[K     |█████████████████▌              | 184kB 6.0MB/s eta 0:00:01\r\u001b[K     |██████████████████▍             | 194kB 6.0MB/s eta 0:00:01\r\u001b[K     |███████████████████▍            | 204kB 6.0MB/s eta 0:00:01\r\u001b[K     |████████████████████▍           | 215kB 6.0MB/s eta 0:00:01\r\u001b[K     |█████████████████████▍          | 225kB 6.0MB/s eta 0:00:01\r\u001b[K     |██████████████████████▎         | 235kB 6.0MB/s eta 0:00:01\r\u001b[K     |███████████████████████▎        | 245kB 6.0MB/s eta 0:00:01\r\u001b[K     |████████████████████████▎       | 256kB 6.0MB/s eta 0:00:01\r\u001b[K     |█████████████████████████▏      | 266kB 6.0MB/s eta 0:00:01\r\u001b[K     |██████████████████████████▏     | 276kB 6.0MB/s eta 0:00:01\r\u001b[K     |███████████████████████████▏    | 286kB 6.0MB/s eta 0:00:01\r\u001b[K     |████████████████████████████▏   | 296kB 6.0MB/s eta 0:00:01\r\u001b[K     |█████████████████████████████   | 307kB 6.0MB/s eta 0:00:01\r\u001b[K     |██████████████████████████████  | 317kB 6.0MB/s eta 0:00:01\r\u001b[K     |███████████████████████████████ | 327kB 6.0MB/s eta 0:00:01\r\u001b[K     |████████████████████████████████| 337kB 6.0MB/s \n",
            "\u001b[?25hRequirement already satisfied: matplotlib>=2.2.3 in /usr/local/lib/python3.6/dist-packages (from flair) (3.2.2)\n",
            "Collecting sqlitedict>=1.6.0\n",
            "  Downloading https://files.pythonhosted.org/packages/5c/2d/b1d99e9ad157dd7de9cd0d36a8a5876b13b55e4b75f7498bc96035fb4e96/sqlitedict-1.7.0.tar.gz\n",
            "Requirement already satisfied: torch>=1.1.0 in /usr/local/lib/python3.6/dist-packages (from flair) (1.7.0+cu101)\n",
            "Requirement already satisfied: gensim>=3.4.0 in /usr/local/lib/python3.6/dist-packages (from flair) (3.6.0)\n",
            "Collecting janome\n",
            "\u001b[?25l  Downloading https://files.pythonhosted.org/packages/a8/63/98858cbead27df7536c7e300c169da0999e9704d02220dc6700b804eeff0/Janome-0.4.1-py2.py3-none-any.whl (19.7MB)\n",
            "\u001b[K     |████████████████████████████████| 19.7MB 5.4MB/s \n",
            "\u001b[?25hCollecting mpld3==0.3\n",
            "\u001b[?25l  Downloading https://files.pythonhosted.org/packages/91/95/a52d3a83d0a29ba0d6898f6727e9858fe7a43f6c2ce81a5fe7e05f0f4912/mpld3-0.3.tar.gz (788kB)\n",
            "\u001b[K     |████████████████████████████████| 798kB 40.3MB/s \n",
            "\u001b[?25hRequirement already satisfied: scikit-learn>=0.21.3 in /usr/local/lib/python3.6/dist-packages (from flair) (0.22.2.post1)\n",
            "Collecting transformers>=3.0.0\n",
            "\u001b[?25l  Downloading https://files.pythonhosted.org/packages/3a/83/e74092e7f24a08d751aa59b37a9fc572b2e4af3918cb66f7766c3affb1b4/transformers-3.5.1-py3-none-any.whl (1.3MB)\n",
            "\u001b[K     |████████████████████████████████| 1.3MB 45.5MB/s \n",
            "\u001b[?25hRequirement already satisfied: lxml in /usr/local/lib/python3.6/dist-packages (from flair) (4.2.6)\n",
            "Collecting ftfy\n",
            "\u001b[?25l  Downloading https://files.pythonhosted.org/packages/ff/e2/3b51c53dffb1e52d9210ebc01f1fb9f2f6eba9b3201fa971fd3946643c71/ftfy-5.8.tar.gz (64kB)\n",
            "\u001b[K     |████████████████████████████████| 71kB 9.5MB/s \n",
            "\u001b[?25hCollecting konoha<5.0.0,>=4.0.0\n",
            "  Downloading https://files.pythonhosted.org/packages/ea/01/47358efec5396fc80f98273c42cbdfe7aab056252b07884ffcc0f118978f/konoha-4.6.2-py3-none-any.whl\n",
            "Requirement already satisfied: tqdm>=4.26.0 in /usr/local/lib/python3.6/dist-packages (from flair) (4.41.1)\n",
            "Requirement already satisfied: regex in /usr/local/lib/python3.6/dist-packages (from flair) (2019.12.20)\n",
            "Collecting bpemb>=0.3.2\n",
            "  Downloading https://files.pythonhosted.org/packages/91/77/3f0f53856e86af32b1d3c86652815277f7b5f880002584eb30db115b6df5/bpemb-0.3.2-py3-none-any.whl\n",
            "Requirement already satisfied: python-dateutil>=2.6.1 in /usr/local/lib/python3.6/dist-packages (from flair) (2.8.1)\n",
            "Collecting langdetect\n",
            "\u001b[?25l  Downloading https://files.pythonhosted.org/packages/56/a3/8407c1e62d5980188b4acc45ef3d94b933d14a2ebc9ef3505f22cf772570/langdetect-1.0.8.tar.gz (981kB)\n",
            "\u001b[K     |████████████████████████████████| 983kB 49.6MB/s \n",
            "\u001b[?25hRequirement already satisfied: gdown in /usr/local/lib/python3.6/dist-packages (from flair) (3.6.4)\n",
            "Collecting segtok>=1.5.7\n",
            "  Downloading https://files.pythonhosted.org/packages/41/08/582dab5f4b1d5ca23bc6927b4bb977c8ff7f3a87a3b98844ef833e2f5623/segtok-1.5.10.tar.gz\n",
            "Collecting deprecated>=1.2.4\n",
            "  Downloading https://files.pythonhosted.org/packages/76/a1/05d7f62f956d77b23a640efc650f80ce24483aa2f85a09c03fb64f49e879/Deprecated-1.2.10-py2.py3-none-any.whl\n",
            "Requirement already satisfied: tabulate in /usr/local/lib/python3.6/dist-packages (from flair) (0.8.7)\n",
            "Requirement already satisfied: hyperopt>=0.1.1 in /usr/local/lib/python3.6/dist-packages (from flair) (0.1.2)\n",
            "Collecting sentencepiece!=0.1.92\n",
            "\u001b[?25l  Downloading https://files.pythonhosted.org/packages/e5/2d/6d4ca4bef9a67070fa1cac508606328329152b1df10bdf31fb6e4e727894/sentencepiece-0.1.94-cp36-cp36m-manylinux2014_x86_64.whl (1.1MB)\n",
            "\u001b[K     |████████████████████████████████| 1.1MB 39.0MB/s \n",
            "\u001b[?25hRequirement already satisfied: pyparsing!=2.0.4,!=2.1.2,!=2.1.6,>=2.0.1 in /usr/local/lib/python3.6/dist-packages (from matplotlib>=2.2.3->flair) (2.4.7)\n",
            "Requirement already satisfied: numpy>=1.11 in /usr/local/lib/python3.6/dist-packages (from matplotlib>=2.2.3->flair) (1.18.5)\n",
            "Requirement already satisfied: kiwisolver>=1.0.1 in /usr/local/lib/python3.6/dist-packages (from matplotlib>=2.2.3->flair) (1.3.1)\n",
            "Requirement already satisfied: cycler>=0.10 in /usr/local/lib/python3.6/dist-packages (from matplotlib>=2.2.3->flair) (0.10.0)\n",
            "Requirement already satisfied: dataclasses in /usr/local/lib/python3.6/dist-packages (from torch>=1.1.0->flair) (0.7)\n",
            "Requirement already satisfied: typing-extensions in /usr/local/lib/python3.6/dist-packages (from torch>=1.1.0->flair) (3.7.4.3)\n",
            "Requirement already satisfied: future in /usr/local/lib/python3.6/dist-packages (from torch>=1.1.0->flair) (0.16.0)\n",
            "Requirement already satisfied: smart-open>=1.2.1 in /usr/local/lib/python3.6/dist-packages (from gensim>=3.4.0->flair) (3.0.0)\n",
            "Requirement already satisfied: scipy>=0.18.1 in /usr/local/lib/python3.6/dist-packages (from gensim>=3.4.0->flair) (1.4.1)\n",
            "Requirement already satisfied: six>=1.5.0 in /usr/local/lib/python3.6/dist-packages (from gensim>=3.4.0->flair) (1.15.0)\n",
            "Requirement already satisfied: joblib>=0.11 in /usr/local/lib/python3.6/dist-packages (from scikit-learn>=0.21.3->flair) (0.17.0)\n",
            "Requirement already satisfied: packaging in /usr/local/lib/python3.6/dist-packages (from transformers>=3.0.0->flair) (20.4)\n",
            "Requirement already satisfied: filelock in /usr/local/lib/python3.6/dist-packages (from transformers>=3.0.0->flair) (3.0.12)\n",
            "Collecting sacremoses\n",
            "\u001b[?25l  Downloading https://files.pythonhosted.org/packages/7d/34/09d19aff26edcc8eb2a01bed8e98f13a1537005d31e95233fd48216eed10/sacremoses-0.0.43.tar.gz (883kB)\n",
            "\u001b[K     |████████████████████████████████| 890kB 47.3MB/s \n",
            "\u001b[?25hRequirement already satisfied: requests in /usr/local/lib/python3.6/dist-packages (from transformers>=3.0.0->flair) (2.23.0)\n",
            "Collecting tokenizers==0.9.3\n",
            "\u001b[?25l  Downloading https://files.pythonhosted.org/packages/4c/34/b39eb9994bc3c999270b69c9eea40ecc6f0e97991dba28282b9fd32d44ee/tokenizers-0.9.3-cp36-cp36m-manylinux1_x86_64.whl (2.9MB)\n",
            "\u001b[K     |████████████████████████████████| 2.9MB 35.7MB/s \n",
            "\u001b[?25hRequirement already satisfied: protobuf in /usr/local/lib/python3.6/dist-packages (from transformers>=3.0.0->flair) (3.12.4)\n",
            "Requirement already satisfied: wcwidth in /usr/local/lib/python3.6/dist-packages (from ftfy->flair) (0.2.5)\n",
            "Collecting overrides==3.0.0\n",
            "  Downloading https://files.pythonhosted.org/packages/42/8d/caa729f809ecdf8e76fac3c1ff7d3f0b72c398c9dd8a6919927a30a873b3/overrides-3.0.0.tar.gz\n",
            "Requirement already satisfied: wrapt<2,>=1.10 in /usr/local/lib/python3.6/dist-packages (from deprecated>=1.2.4->flair) (1.12.1)\n",
            "Requirement already satisfied: networkx in /usr/local/lib/python3.6/dist-packages (from hyperopt>=0.1.1->flair) (2.5)\n",
            "Requirement already satisfied: pymongo in /usr/local/lib/python3.6/dist-packages (from hyperopt>=0.1.1->flair) (3.11.0)\n",
            "Requirement already satisfied: click in /usr/local/lib/python3.6/dist-packages (from sacremoses->transformers>=3.0.0->flair) (7.1.2)\n",
            "Requirement already satisfied: chardet<4,>=3.0.2 in /usr/local/lib/python3.6/dist-packages (from requests->transformers>=3.0.0->flair) (3.0.4)\n",
            "Requirement already satisfied: idna<3,>=2.5 in /usr/local/lib/python3.6/dist-packages (from requests->transformers>=3.0.0->flair) (2.10)\n",
            "Requirement already satisfied: certifi>=2017.4.17 in /usr/local/lib/python3.6/dist-packages (from requests->transformers>=3.0.0->flair) (2020.6.20)\n",
            "Requirement already satisfied: urllib3!=1.25.0,!=1.25.1,<1.26,>=1.21.1 in /usr/local/lib/python3.6/dist-packages (from requests->transformers>=3.0.0->flair) (1.24.3)\n",
            "Requirement already satisfied: setuptools in /usr/local/lib/python3.6/dist-packages (from protobuf->transformers>=3.0.0->flair) (50.3.2)\n",
            "Requirement already satisfied: decorator>=4.3.0 in /usr/local/lib/python3.6/dist-packages (from networkx->hyperopt>=0.1.1->flair) (4.4.2)\n",
            "Building wheels for collected packages: sqlitedict, mpld3, ftfy, langdetect, segtok, sacremoses, overrides\n",
            "  Building wheel for sqlitedict (setup.py) ... \u001b[?25l\u001b[?25hdone\n",
            "  Created wheel for sqlitedict: filename=sqlitedict-1.7.0-cp36-none-any.whl size=14377 sha256=ad18b20ed7bd553e8129700632d38752cdd5ceb4f33ec39ef2932a0c1dee5abe\n",
            "  Stored in directory: /root/.cache/pip/wheels/cf/c6/4f/2c64a43f041415eb8b8740bd80e15e92f0d46c5e464d8e4b9b\n",
            "  Building wheel for mpld3 (setup.py) ... \u001b[?25l\u001b[?25hdone\n",
            "  Created wheel for mpld3: filename=mpld3-0.3-cp36-none-any.whl size=116677 sha256=1596c623de959039db570c380d895412a693748440e5abf53d8298b11cbbd6eb\n",
            "  Stored in directory: /root/.cache/pip/wheels/c0/47/fb/8a64f89aecfe0059830479308ad42d62e898a3e3cefdf6ba28\n",
            "  Building wheel for ftfy (setup.py) ... \u001b[?25l\u001b[?25hdone\n",
            "  Created wheel for ftfy: filename=ftfy-5.8-cp36-none-any.whl size=45612 sha256=98812607aa0a321cdfb6360bea49622b3f36cd4f86ca6af5d9370159c25cbcaa\n",
            "  Stored in directory: /root/.cache/pip/wheels/ba/c0/ef/f28c4da5ac84a4e06ac256ca9182fc34fa57fefffdbc68425b\n",
            "  Building wheel for langdetect (setup.py) ... \u001b[?25l\u001b[?25hdone\n",
            "  Created wheel for langdetect: filename=langdetect-1.0.8-cp36-none-any.whl size=993195 sha256=b94ca57fec22ed828ca04ce9c6a2b8ace72184084943b7d81c5404a9b7463bb8\n",
            "  Stored in directory: /root/.cache/pip/wheels/8d/b3/aa/6d99de9f3841d7d3d40a60ea06e6d669e8e5012e6c8b947a57\n",
            "  Building wheel for segtok (setup.py) ... \u001b[?25l\u001b[?25hdone\n",
            "  Created wheel for segtok: filename=segtok-1.5.10-cp36-none-any.whl size=25021 sha256=10328d8d7d8fafe58feaca37343f872e5ffdbf1d8ea527687372e245e015710c\n",
            "  Stored in directory: /root/.cache/pip/wheels/b4/39/f6/9ca1c5cabde964d728023b5751c3a206a5c8cc40252321fb6b\n",
            "  Building wheel for sacremoses (setup.py) ... \u001b[?25l\u001b[?25hdone\n",
            "  Created wheel for sacremoses: filename=sacremoses-0.0.43-cp36-none-any.whl size=893257 sha256=bde3fb0c612ed45df8b9e71239e249562d055493ffd2e3fecc438d24810ad94a\n",
            "  Stored in directory: /root/.cache/pip/wheels/29/3c/fd/7ce5c3f0666dab31a50123635e6fb5e19ceb42ce38d4e58f45\n",
            "  Building wheel for overrides (setup.py) ... \u001b[?25l\u001b[?25hdone\n",
            "  Created wheel for overrides: filename=overrides-3.0.0-cp36-none-any.whl size=5669 sha256=f42dfb917321490d15ac3de590d3f4b322dcc920863cb9fd0abfe76871d8d1e6\n",
            "  Stored in directory: /root/.cache/pip/wheels/6f/1b/ec/6c71a1eb823df7f850d956b2d8c50a6d49c191e1063d73b9be\n",
            "Successfully built sqlitedict mpld3 ftfy langdetect segtok sacremoses overrides\n",
            "\u001b[31mERROR: transformers 3.5.1 has requirement sentencepiece==0.1.91, but you'll have sentencepiece 0.1.94 which is incompatible.\u001b[0m\n",
            "Installing collected packages: sqlitedict, janome, mpld3, sacremoses, sentencepiece, tokenizers, transformers, ftfy, overrides, konoha, bpemb, langdetect, segtok, deprecated, flair\n",
            "Successfully installed bpemb-0.3.2 deprecated-1.2.10 flair-0.6.1.post1 ftfy-5.8 janome-0.4.1 konoha-4.6.2 langdetect-1.0.8 mpld3-0.3 overrides-3.0.0 sacremoses-0.0.43 segtok-1.5.10 sentencepiece-0.1.94 sqlitedict-1.7.0 tokenizers-0.9.3 transformers-3.5.1\n"
          ],
          "name": "stdout"
        }
      ]
    },
    {
      "cell_type": "code",
      "metadata": {
        "id": "NnWxbzKXzoFT"
      },
      "source": [
        "# import libraries\n",
        "import pandas as pd\n",
        "import flair\n",
        "\n",
        "def flairSA(mystc):\n",
        "  flair_sentiment = flair.models.TextClassifier.load('en-sentiment') # model\n",
        "  # sentiment\n",
        "  s = flair.data.Sentence(mystc)\n",
        "  flair_sentiment.predict(s)\n",
        "  total_sentiment = s.labels\n",
        "  print(total_sentiment)\n",
        "  \n",
        "  # tokenize sentiments\n",
        "  tokens = [token.text for token in s.tokens]\n",
        "  ss = [flair.data.Sentence(s) for s in tokens]\n",
        "  [flair_sentiment.predict(s) for s in ss]\n",
        "  sentiments = [s.labels[0].score * (-1,1)[str(s.labels[0]).split()[0].startswith(\"POS\")] for s in ss]"
      ],
      "execution_count": null,
      "outputs": []
    },
    {
      "cell_type": "markdown",
      "metadata": {
        "id": "BTx4Nu9m0YkD"
      },
      "source": [
        "EVALUATE NEGATIVE REVIEW (FALSE HUMOR)"
      ]
    },
    {
      "cell_type": "code",
      "metadata": {
        "id": "8Q_2QtcxzsvM",
        "colab": {
          "base_uri": "https://localhost:8080/",
          "height": 271,
          "referenced_widgets": [
            "3743a3cd18a04cf09748c9a15acb94f5",
            "1301a0367e0e46acbc7633a04ccd5c5a",
            "6e73178b60664cc3bfb949a4484a6cc2",
            "4cb4e48c4a8042529b5633285d0d3ba8",
            "970abb3ce8bd4d17a9fded4815b3e14d",
            "a0de965795f04748861aecb2bfee7cb7",
            "aeabde9811504fb69c0d67d1b9227f2c",
            "81ee1b1d9a0a4bbca4793922b77e2844",
            "29874cba6b854b01b10841d0edc7bb05",
            "02b3655ea1804f0e89ca1ab292803538",
            "8548019aed57479f81c614ea91fd2fab",
            "eb7d020846ec445fb0babaf66a59dc18",
            "6b1491335daa46a89aac49286a25f8f1",
            "3068492a602b49d2b5e250a2722a801e",
            "5e72d1cd777a4dbc92f23430f492ccee",
            "fc0124ad863a4f339f2641846895dd66"
          ]
        },
        "outputId": "a0cc5365-6ca3-47a6-b50a-69ac85ab95b6"
      },
      "source": [
        "#your code start here:\n",
        "#input sentence\n",
        "sentence1 = df.text[0]\n",
        "\n",
        "#SA tools:\n",
        "nltkSA(sentence1)\n",
        "textblobSA(sentence1)\n",
        "flairSA(sentence1)"
      ],
      "execution_count": null,
      "outputs": [
        {
          "output_type": "stream",
          "text": [
            "{'neg': 0.0, 'neu': 1.0, 'pos': 0.0, 'compound': 0.0}\n",
            "Sentiment(polarity=0.0, subjectivity=0.0)\n",
            "2020-11-14 12:53:06,574 https://nlp.informatik.hu-berlin.de/resources/models/sentiment-curated-distilbert/sentiment-en-mix-distillbert_3.1.pt not found in cache, downloading to /tmp/tmpamm_202x\n"
          ],
          "name": "stdout"
        },
        {
          "output_type": "stream",
          "text": [
            "100%|██████████| 266147697/266147697 [00:20<00:00, 13243023.34B/s]"
          ],
          "name": "stderr"
        },
        {
          "output_type": "stream",
          "text": [
            "2020-11-14 12:53:27,024 copying /tmp/tmpamm_202x to cache at /root/.flair/models/sentiment-en-mix-distillbert_3.1.pt\n"
          ],
          "name": "stdout"
        },
        {
          "output_type": "stream",
          "text": [
            "\n"
          ],
          "name": "stderr"
        },
        {
          "output_type": "stream",
          "text": [
            "2020-11-14 12:53:27,869 removing temp file /tmp/tmpamm_202x\n",
            "2020-11-14 12:53:28,248 loading file /root/.flair/models/sentiment-en-mix-distillbert_3.1.pt\n"
          ],
          "name": "stdout"
        },
        {
          "output_type": "display_data",
          "data": {
            "application/vnd.jupyter.widget-view+json": {
              "model_id": "3743a3cd18a04cf09748c9a15acb94f5",
              "version_minor": 0,
              "version_major": 2
            },
            "text/plain": [
              "HBox(children=(FloatProgress(value=0.0, description='Downloading', max=442.0, style=ProgressStyle(description_…"
            ]
          },
          "metadata": {
            "tags": []
          }
        },
        {
          "output_type": "stream",
          "text": [
            "\n"
          ],
          "name": "stdout"
        },
        {
          "output_type": "display_data",
          "data": {
            "application/vnd.jupyter.widget-view+json": {
              "model_id": "29874cba6b854b01b10841d0edc7bb05",
              "version_minor": 0,
              "version_major": 2
            },
            "text/plain": [
              "HBox(children=(FloatProgress(value=0.0, description='Downloading', max=231508.0, style=ProgressStyle(descripti…"
            ]
          },
          "metadata": {
            "tags": []
          }
        },
        {
          "output_type": "stream",
          "text": [
            "\n",
            "[NEGATIVE (0.9543)]\n"
          ],
          "name": "stdout"
        }
      ]
    },
    {
      "cell_type": "code",
      "metadata": {
        "id": "4N5iX4tS0cN6",
        "colab": {
          "base_uri": "https://localhost:8080/"
        },
        "outputId": "14bb1ed8-1f8f-49cb-d9b8-570dc2aee2a4"
      },
      "source": [
        "#your code start here:\n",
        "#input sentence\n",
        "sentence2 = df.text[1]\n",
        "\n",
        "#SA tools:\n",
        "nltkSA(sentence2)\n",
        "textblobSA(sentence2)\n",
        "flairSA(sentence2)"
      ],
      "execution_count": null,
      "outputs": [
        {
          "output_type": "stream",
          "text": [
            "{'neg': 0.0, 'neu': 1.0, 'pos': 0.0, 'compound': 0.0}\n",
            "Sentiment(polarity=-0.30000000000000004, subjectivity=0.39999999999999997)\n",
            "2020-11-14 12:55:28,304 loading file /root/.flair/models/sentiment-en-mix-distillbert_3.1.pt\n",
            "[NEGATIVE (0.9786)]\n"
          ],
          "name": "stdout"
        }
      ]
    },
    {
      "cell_type": "code",
      "metadata": {
        "id": "CaYRK4Q30pAf",
        "colab": {
          "base_uri": "https://localhost:8080/"
        },
        "outputId": "5e1ac693-9640-4765-9a17-100734c06339"
      },
      "source": [
        "#your code start here:\n",
        "#input sentence\n",
        "sentence3 = df.text[3]\n",
        "\n",
        "#SA tools:\n",
        "nltkSA(sentence3)\n",
        "textblobSA(sentence3)\n",
        "flairSA(sentence3)"
      ],
      "execution_count": null,
      "outputs": [
        {
          "output_type": "stream",
          "text": [
            "{'neg': 0.0, 'neu': 1.0, 'pos': 0.0, 'compound': 0.0}\n",
            "Sentiment(polarity=0.0, subjectivity=0.3)\n",
            "2020-11-14 12:55:34,337 loading file /root/.flair/models/sentiment-en-mix-distillbert_3.1.pt\n",
            "[POSITIVE (0.9947)]\n"
          ],
          "name": "stdout"
        }
      ]
    },
    {
      "cell_type": "code",
      "metadata": {
        "id": "rLiW2o_40r04",
        "colab": {
          "base_uri": "https://localhost:8080/"
        },
        "outputId": "d5f1eeca-f82e-4694-d8d1-642f36e10d41"
      },
      "source": [
        "#your code start here:\n",
        "#input sentence\n",
        "sentence4 = df.text[4]\n",
        "\n",
        "#SA tools:\n",
        "nltkSA(sentence4)\n",
        "textblobSA(sentence4)\n",
        "flairSA(sentence4)"
      ],
      "execution_count": null,
      "outputs": [
        {
          "output_type": "stream",
          "text": [
            "{'neg': 0.0, 'neu': 1.0, 'pos': 0.0, 'compound': 0.0}\n",
            "Sentiment(polarity=-0.13181818181818183, subjectivity=0.5772727272727273)\n",
            "2020-11-14 12:55:37,930 loading file /root/.flair/models/sentiment-en-mix-distillbert_3.1.pt\n",
            "[NEGATIVE (0.9933)]\n"
          ],
          "name": "stdout"
        }
      ]
    },
    {
      "cell_type": "code",
      "metadata": {
        "id": "C6pXPAo90vNM",
        "colab": {
          "base_uri": "https://localhost:8080/"
        },
        "outputId": "ab9169e9-8c90-4a31-f812-29c1dedac840"
      },
      "source": [
        "#your code start here:\n",
        "#input sentence\n",
        "sentence5 = df.text[5]\n",
        "\n",
        "#SA tools:\n",
        "nltkSA(sentence5)\n",
        "textblobSA(sentence5)\n",
        "flairSA(sentence5)"
      ],
      "execution_count": null,
      "outputs": [
        {
          "output_type": "stream",
          "text": [
            "{'neg': 0.0, 'neu': 1.0, 'pos': 0.0, 'compound': 0.0}\n",
            "Sentiment(polarity=0.0, subjectivity=0.0)\n",
            "2020-11-14 12:55:42,215 loading file /root/.flair/models/sentiment-en-mix-distillbert_3.1.pt\n",
            "[NEGATIVE (0.9996)]\n"
          ],
          "name": "stdout"
        }
      ]
    },
    {
      "cell_type": "markdown",
      "metadata": {
        "id": "WyjvmbMe020N"
      },
      "source": [
        "EVALUATING POSITIVE REVIEW (HUMOR TEXT)"
      ]
    },
    {
      "cell_type": "code",
      "metadata": {
        "id": "ukVTPma405gU",
        "colab": {
          "base_uri": "https://localhost:8080/"
        },
        "outputId": "60022a9e-2a69-4dfa-b1f6-ade533a9a9a8"
      },
      "source": [
        "#your code start here:\n",
        "#input sentence\n",
        "sentence6 = df.text[2]\n",
        "\n",
        "#SA tools:\n",
        "nltkSA(sentence6)\n",
        "textblobSA(sentence6)\n",
        "flairSA(sentence6)"
      ],
      "execution_count": null,
      "outputs": [
        {
          "output_type": "stream",
          "text": [
            "{'neg': 0.0, 'neu': 0.699, 'pos': 0.301, 'compound': 0.5334}\n",
            "Sentiment(polarity=-0.2, subjectivity=0.4)\n",
            "2020-11-14 12:57:41,898 loading file /root/.flair/models/sentiment-en-mix-distillbert_3.1.pt\n",
            "[NEGATIVE (0.9996)]\n"
          ],
          "name": "stdout"
        }
      ]
    },
    {
      "cell_type": "code",
      "metadata": {
        "id": "ndzl15rv1DXu",
        "colab": {
          "base_uri": "https://localhost:8080/"
        },
        "outputId": "b1ad5507-763a-46d0-b530-d880283090a2"
      },
      "source": [
        "#your code start here:\n",
        "#input sentence\n",
        "sentence7 = df.text[6]\n",
        "\n",
        "#SA tools:\n",
        "nltkSA(sentence7)\n",
        "textblobSA(sentence7)\n",
        "flairSA(sentence7)"
      ],
      "execution_count": null,
      "outputs": [
        {
          "output_type": "stream",
          "text": [
            "{'neg': 0.0, 'neu': 0.708, 'pos': 0.292, 'compound': 0.5093}\n",
            "Sentiment(polarity=0.625, subjectivity=0.95)\n",
            "2020-11-14 12:57:51,672 loading file /root/.flair/models/sentiment-en-mix-distillbert_3.1.pt\n",
            "[POSITIVE (0.9999)]\n"
          ],
          "name": "stdout"
        }
      ]
    },
    {
      "cell_type": "code",
      "metadata": {
        "id": "xGy0LBuh1EgN",
        "colab": {
          "base_uri": "https://localhost:8080/"
        },
        "outputId": "1a1f39cc-002a-4b16-872f-6b2b8a723205"
      },
      "source": [
        "#your code start here:\n",
        "#input sentence\n",
        "sentence8 = df.text[7]\n",
        "\n",
        "#SA tools:\n",
        "nltkSA(sentence8)\n",
        "textblobSA(sentence8)\n",
        "flairSA(sentence8)"
      ],
      "execution_count": null,
      "outputs": [
        {
          "output_type": "stream",
          "text": [
            "{'neg': 0.209, 'neu': 0.791, 'pos': 0.0, 'compound': -0.5719}\n",
            "Sentiment(polarity=-0.8, subjectivity=0.9)\n",
            "2020-11-14 12:58:00,907 loading file /root/.flair/models/sentiment-en-mix-distillbert_3.1.pt\n",
            "[NEGATIVE (0.8244)]\n"
          ],
          "name": "stdout"
        }
      ]
    },
    {
      "cell_type": "code",
      "metadata": {
        "id": "19JTBBfY1Fq2",
        "colab": {
          "base_uri": "https://localhost:8080/"
        },
        "outputId": "6278baca-3c0e-42ae-e007-b4c272d0e7ed"
      },
      "source": [
        "#your code start here:\n",
        "#input sentence\n",
        "sentence9 = df.text[9]\n",
        "\n",
        "#SA tools:\n",
        "nltkSA(sentence9)\n",
        "textblobSA(sentence9)\n",
        "flairSA(sentence9)"
      ],
      "execution_count": null,
      "outputs": [
        {
          "output_type": "stream",
          "text": [
            "{'neg': 0.213, 'neu': 0.787, 'pos': 0.0, 'compound': -0.2263}\n",
            "Sentiment(polarity=0.0, subjectivity=0.0)\n",
            "2020-11-14 12:58:04,955 loading file /root/.flair/models/sentiment-en-mix-distillbert_3.1.pt\n",
            "[POSITIVE (0.9998)]\n"
          ],
          "name": "stdout"
        }
      ]
    },
    {
      "cell_type": "code",
      "metadata": {
        "id": "e9FdrZ4N1G4T",
        "colab": {
          "base_uri": "https://localhost:8080/"
        },
        "outputId": "1e29d8ff-f918-4944-e789-0296f907f297"
      },
      "source": [
        "#your code start here:\n",
        "#input sentence\n",
        "sentence10 = df.text[13]\n",
        "\n",
        "#SA tools:\n",
        "nltkSA(sentence10)\n",
        "textblobSA(sentence10)\n",
        "flairSA(sentence10)"
      ],
      "execution_count": null,
      "outputs": [
        {
          "output_type": "stream",
          "text": [
            "{'neg': 0.0, 'neu': 1.0, 'pos': 0.0, 'compound': 0.0}\n",
            "Sentiment(polarity=0.0, subjectivity=0.4)\n",
            "2020-11-14 12:58:07,749 loading file /root/.flair/models/sentiment-en-mix-distillbert_3.1.pt\n",
            "[NEGATIVE (0.999)]\n"
          ],
          "name": "stdout"
        }
      ]
    },
    {
      "cell_type": "markdown",
      "metadata": {
        "id": "v1lAUSBy1acd"
      },
      "source": [
        ""
      ]
    }
  ]
}